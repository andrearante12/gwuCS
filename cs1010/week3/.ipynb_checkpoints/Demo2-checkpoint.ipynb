{
 "cells": [
  {
   "cell_type": "markdown",
   "metadata": {
    "cell_id": "b361defc-6a7c-43ad-be4e-5c380059841d",
    "deepnote_cell_height": 88,
    "deepnote_cell_type": "markdown",
    "tags": []
   },
   "source": [
    "This is a place for you to follow along live!\n",
    "\n",
    "Use Shift+Enter to run a cell!"
   ]
  },
  {
   "cell_type": "code",
   "execution_count": null,
   "metadata": {
    "cell_id": "00001-9062b7e3-96b9-49e8-9da8-731145267ed3",
    "deepnote_cell_height": 94,
    "deepnote_cell_type": "code",
    "deepnote_to_be_reexecuted": false,
    "execution_millis": 1,
    "execution_start": 1632337662971,
    "source_hash": "9e9fb9e4",
    "tags": []
   },
   "outputs": [],
   "source": [
    "#Start typing code below!\n",
    "import numpy as np"
   ]
  }
 ],
 "metadata": {
  "deepnote": {
   "is_reactive": false
  },
  "deepnote_execution_queue": [],
  "deepnote_notebook_id": "af9b3d75-d932-4a0b-85c7-eb964a900deb",
  "kernelspec": {
   "display_name": "Python 3 (ipykernel)",
   "language": "python",
   "name": "python3"
  },
  "language_info": {
   "codemirror_mode": {
    "name": "ipython",
    "version": 3
   },
   "file_extension": ".py",
   "mimetype": "text/x-python",
   "name": "python",
   "nbconvert_exporter": "python",
   "pygments_lexer": "ipython3",
   "version": "3.11.5"
  }
 },
 "nbformat": 4,
 "nbformat_minor": 2
}
