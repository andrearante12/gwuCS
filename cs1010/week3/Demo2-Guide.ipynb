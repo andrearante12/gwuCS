{
 "cells": [
  {
   "cell_type": "markdown",
   "metadata": {
    "cell_id": "1bdf88a5-fc11-4223-9d8b-93032b94e5ac",
    "deepnote_cell_height": 471.5625,
    "deepnote_cell_type": "markdown",
    "tags": []
   },
   "source": [
    "# CS 1010\n",
    "# Week 2 - Numpy, Matplotlib, and Pandas Intro\n",
    "### Instructor: \n",
    "**Prof. Kartik Bulusu [CS & MAE]**\n",
    "\n",
    "#### GTA: \n",
    "**Oscar Southwell [EMSE]**\n",
    "\n",
    "#### UTAs:\n",
    "**Sameen Ahmad [CS], Talia Novack [CS]**\n",
    "\n",
    "#### LAs: \n",
    "**Manue Alaimo [CS], Selamn Eris [CS], Saif Alzaabi [CS], Pravin Khanal [CS], Gustavo Londono [CS], Amy Longua [CS]**\n",
    "\n",
    "#### Grader:\n",
    "**Rutvik Solanki [CS]**\n",
    "\n",
    "\n",
    "If you have any questions, please feel free to send a slack message or email to a member of the teaching team or come to office hours! We are happy to help!!"
   ]
  },
  {
   "cell_type": "markdown",
   "metadata": {
    "cell_id": "00001-86d2f522-879b-4285-94e2-5c857dd939c7",
    "deepnote_cell_type": "text-cell-h2",
    "formattedRanges": [],
    "is_collapsed": false,
    "tags": []
   },
   "source": [
    "## Introduction to Numpy"
   ]
  },
  {
   "cell_type": "markdown",
   "metadata": {
    "cell_id": "00002-7b81fdd7-a440-4dae-a539-3a97b5597ed0",
    "deepnote_cell_height": 147.5625,
    "deepnote_cell_type": "markdown",
    "tags": []
   },
   "source": [
    "Numpy works with concepts called arrays, which are essentially collections of numbers. \n",
    "\n",
    "We can establish numpy arrays in a lot of ways, but in order to do so, we need to have the library imported into our session of DeepNote. Let's start with that!\n",
    "\n",
    "You've seen the following cell before"
   ]
  },
  {
   "cell_type": "code",
   "execution_count": 1,
   "metadata": {
    "cell_id": "00003-27b152c7-95ed-4a05-92ea-356b72520553",
    "deepnote_cell_height": 76,
    "deepnote_cell_type": "code",
    "deepnote_to_be_reexecuted": false,
    "execution_millis": 0,
    "execution_start": 1664557892023,
    "source_hash": "c2602aa8",
    "tags": []
   },
   "outputs": [],
   "source": [
    "import numpy as np"
   ]
  },
  {
   "cell_type": "markdown",
   "metadata": {
    "cell_id": "00004-6d6ca374-4453-489b-92f5-916d81917f10",
    "deepnote_cell_type": "text-cell-h3",
    "formattedRanges": [],
    "is_collapsed": false,
    "tags": []
   },
   "source": [
    "### Numpy as a calculator"
   ]
  },
  {
   "cell_type": "code",
   "execution_count": 2,
   "metadata": {
    "cell_id": "00005-e61f9076-470b-40f5-9f7e-b16808ddba87",
    "deepnote_cell_height": 197.1875,
    "deepnote_cell_type": "code",
    "deepnote_to_be_reexecuted": false,
    "execution_millis": 8,
    "execution_start": 1632978461800,
    "source_hash": "36f5944a",
    "tags": []
   },
   "outputs": [
    {
     "name": "stdout",
     "output_type": "stream",
     "text": [
      "[   3   12  102 1002]\n"
     ]
    }
   ],
   "source": [
    "powers_of_10_array = np.array([1, 10, 100, 1000])\n",
    "#element-wise addition\n",
    "new_array2 = powers_of_10_array + 2\n",
    "print(new_array2)\n",
    "\n",
    "#in one operation, using numpy"
   ]
  },
  {
   "cell_type": "markdown",
   "metadata": {
    "cell_id": "00006-37170637-44e2-4474-a6e5-2a90a7afd90b",
    "deepnote_cell_height": 111.171875,
    "deepnote_cell_type": "markdown",
    "tags": []
   },
   "source": [
    "Similarly we can do other types of math! \n",
    "\n",
    "Numpy is like the math library which means we have access to sin, cos, absolute value, hyperbolics, exponentials, and all kinds of fun functions"
   ]
  },
  {
   "cell_type": "code",
   "execution_count": 3,
   "metadata": {
    "cell_id": "00007-5511b9d5-4fda-4305-a210-e6ac1bb2e9bf",
    "deepnote_cell_height": 235.375,
    "deepnote_cell_type": "code",
    "deepnote_to_be_reexecuted": false,
    "execution_millis": 8,
    "execution_start": 1632978484636,
    "source_hash": "c2eb5213",
    "tags": []
   },
   "outputs": [
    {
     "name": "stdout",
     "output_type": "stream",
     "text": [
      "[   2   20  200 2000]\n",
      "[ 0.84147098 -0.54402111 -0.50636564  0.82687954]\n"
     ]
    }
   ],
   "source": [
    "#similarly, element-wise multiplication\n",
    "new_array3 = powers_of_10_array * 2\n",
    "print(new_array3)\n",
    "\n",
    "#how about sin(x) for each element in the array? (in radians)\n",
    "new_array4 = np.sin(powers_of_10_array)\n",
    "print(new_array4)"
   ]
  },
  {
   "cell_type": "markdown",
   "metadata": {
    "cell_id": "00008-accfe6bd-ea61-488b-bdbc-e770912a71d8",
    "deepnote_cell_height": 88.78125,
    "deepnote_cell_type": "markdown",
    "tags": []
   },
   "source": [
    "We can also do math with two arrays of the same size!\n",
    "\n",
    "We probably will not have time to visit this in class, but we have included it here if you'd like to go above and beyond!"
   ]
  },
  {
   "cell_type": "code",
   "execution_count": 4,
   "metadata": {
    "cell_id": "00009-8f3d0b95-16ac-4315-b2eb-2240cca61072",
    "deepnote_cell_height": 552.3125,
    "deepnote_cell_type": "code",
    "deepnote_to_be_reexecuted": false,
    "execution_millis": 7,
    "execution_start": 1632951439067,
    "source_hash": "a64ff2de",
    "tags": []
   },
   "outputs": [
    {
     "name": "stdout",
     "output_type": "stream",
     "text": [
      "[ 9 -5  9 -1  9  3]\n",
      "\n",
      "[ 7 -9  3 -9 -1 -9]\n",
      "\n",
      "[  8 -14  18 -20  20 -18]\n",
      "\n",
      "[ 8.   -3.5   2.   -1.25  0.8  -0.5 ]\n"
     ]
    }
   ],
   "source": [
    "#Two Array Math\n",
    "array1 = np.array([8, -7, 6, -5, 4, -3])\n",
    "array2 = np.array([1, 2, 3, 4, 5, 6])\n",
    "\n",
    "#we can do element-wise math on both arrays\n",
    "sum_array = array1 + array2\n",
    "print(sum_array)\n",
    "print()\n",
    "\n",
    "difference_array = array1 - array2\n",
    "print(difference_array)\n",
    "print()\n",
    "\n",
    "product_array = array1 * array2\n",
    "print(product_array)\n",
    "print()\n",
    "\n",
    "quotient_array = array1 / array2\n",
    "print(quotient_array)"
   ]
  },
  {
   "cell_type": "markdown",
   "metadata": {
    "cell_id": "00010-5ac5963c-1b43-417b-a99a-3ec2843296c1",
    "deepnote_cell_type": "text-cell-h3",
    "formattedRanges": [],
    "is_collapsed": false,
    "tags": []
   },
   "source": [
    "### Null Arrays and Appending"
   ]
  },
  {
   "cell_type": "markdown",
   "metadata": {
    "cell_id": "00011-04e05ff1-9fd5-417a-9370-7af1907eef34",
    "deepnote_cell_height": 177.5625,
    "deepnote_cell_type": "markdown",
    "tags": []
   },
   "source": [
    "### What if we collect data a little at a time?\n",
    "\n",
    "First we establish something called a null array. This is a blank canvas for us to paint data into later. \n",
    "\n",
    "Then we append the data in one element at a time until we are done. Think loops!\n",
    "\n",
    "Then we can do our math to this data!"
   ]
  },
  {
   "cell_type": "code",
   "execution_count": 5,
   "metadata": {
    "cell_id": "00012-29ab4fea-f1d9-4ebe-a892-8ba9b5d6c471",
    "deepnote_cell_height": 381.5625,
    "deepnote_cell_type": "code",
    "deepnote_to_be_reexecuted": false,
    "execution_millis": 8,
    "execution_start": 1632978916335,
    "source_hash": "6a6174b2",
    "tags": []
   },
   "outputs": [
    {
     "name": "stdout",
     "output_type": "stream",
     "text": [
      "[]\n",
      "\n",
      "[0. 1. 2. 3. 4. 5. 6. 7. 8. 9.]\n"
     ]
    }
   ],
   "source": [
    "#here we create the null array d\n",
    "d = np.array([])\n",
    "print(d)\n",
    "\n",
    "print()\n",
    "\n",
    "#here we append to d the values from 0-9 (inclusive)\n",
    "for i in range(10):\n",
    "    d = np.append(d, i)\n",
    "    #uncomment below for intermediate steps!\n",
    "    #print(d)\n",
    "    #print() \n",
    "\n",
    "print(d)"
   ]
  },
  {
   "cell_type": "markdown",
   "metadata": {
    "cell_id": "00013-a716d0fb-e374-41d8-9fed-0b33ce8596a0",
    "deepnote_cell_height": 111.171875,
    "deepnote_cell_type": "markdown",
    "tags": []
   },
   "source": [
    "We can also establish numpy arrays in other ways! Feel free to look into `np.linspace()`, `np.arange()`, `np.zeros()`, `np.ones()`, and `np.empty_like()` on the documentation if you are curious!\n",
    "\n",
    "Documentation is linked [here](https://numpy.org/doc/stable/reference/routines.array-creation.html)"
   ]
  },
  {
   "cell_type": "markdown",
   "metadata": {
    "cell_id": "00014-ccb6309e-e3a6-44fd-bb39-216c52e8bf9a",
    "deepnote_cell_type": "text-cell-h3",
    "formattedRanges": [],
    "is_collapsed": false,
    "tags": []
   },
   "source": [
    "### Matrices with Numpy!"
   ]
  },
  {
   "cell_type": "markdown",
   "metadata": {
    "cell_id": "00015-0d7df8d6-85a6-4e8b-9e80-b8e93b6e3196",
    "deepnote_cell_height": 254.8125,
    "deepnote_cell_type": "markdown",
    "tags": []
   },
   "source": [
    "A matrix is a collection of data arranged into a set of columns and rows.\n",
    "\n",
    "For example, the following matrix **A** is a 2x2 matrix, because it has 2 rows and 2 columns.\n",
    "\n",
    "$A = \\begin{bmatrix} 2&1 \\\\ -3&5 \\end{bmatrix}$\n",
    "\n",
    "Similarly, the following matrix **B** is a 3x2 matrix, because it has 3 rows and 2 columns\n",
    "\n",
    "$B = \\begin{bmatrix} 6&6 \\\\ 5&9 \\\\ -12&-19 \\end{bmatrix}$"
   ]
  },
  {
   "cell_type": "code",
   "execution_count": 6,
   "metadata": {
    "cell_id": "00016-7ac45a0c-6d4c-4b10-9f4f-505621f30b03",
    "deepnote_cell_height": 204.375,
    "deepnote_cell_type": "code",
    "deepnote_to_be_reexecuted": false,
    "execution_millis": 8,
    "execution_start": 1632977746903,
    "source_hash": "93565323",
    "tags": []
   },
   "outputs": [
    {
     "name": "stdout",
     "output_type": "stream",
     "text": [
      "[[ 2  1]\n",
      " [-3  5]]\n"
     ]
    }
   ],
   "source": [
    "#To establish a matrix using numpy, we use the np.array() function again!\n",
    "\n",
    "#We pass in a big set of brackets for the matrix, then list out our rows one at a time in internal brackets\n",
    "A = np.array([[2,1],[-3,5]])\n",
    "print(A)"
   ]
  },
  {
   "cell_type": "code",
   "execution_count": 7,
   "metadata": {
    "cell_id": "00017-724a384b-4b49-4c56-88e1-50d251276d9a",
    "deepnote_cell_height": 165.5625,
    "deepnote_cell_type": "code",
    "deepnote_to_be_reexecuted": false,
    "execution_millis": 32,
    "execution_start": 1632977824646,
    "source_hash": "e7f3a87b",
    "tags": []
   },
   "outputs": [
    {
     "name": "stdout",
     "output_type": "stream",
     "text": [
      "[[  6   6]\n",
      " [  5   9]\n",
      " [-12 -19]]\n"
     ]
    }
   ],
   "source": [
    "B = np.array([[6,6],[5,9],[-12,-19]])\n",
    "print(B)"
   ]
  },
  {
   "cell_type": "markdown",
   "metadata": {
    "cell_id": "00018-e7f35d8d-ff54-4ad5-b134-a91bc1622401",
    "deepnote_cell_height": 52.390625,
    "deepnote_cell_type": "markdown",
    "tags": []
   },
   "source": [
    "Here are some matrices we won't see in class due to time constraints"
   ]
  },
  {
   "cell_type": "code",
   "execution_count": 8,
   "metadata": {
    "cell_id": "00019-599c5d6f-69f8-438c-be57-df49cdb169d3",
    "deepnote_cell_height": 509.25,
    "deepnote_cell_type": "code",
    "deepnote_to_be_reexecuted": false,
    "execution_millis": 141,
    "execution_start": 1632977877850,
    "source_hash": "cb1697a6",
    "tags": []
   },
   "outputs": [
    {
     "name": "stdout",
     "output_type": "stream",
     "text": [
      "Example 2x2 Matrix:\n",
      "[[ 10  20]\n",
      " [ 50 -18]]\n",
      "\n",
      "Example 3x2 Matrix:\n",
      "[[ 15  -6]\n",
      " [ 17   3]\n",
      " [-12 -19]]\n",
      "\n",
      "Example 2x3 Matrix:\n",
      "[[1 2 3]\n",
      " [4 5 7]]\n"
     ]
    }
   ],
   "source": [
    "print('Example 2x2 Matrix:')\n",
    "mat_2x2 = np.array([[10,20],[50,-18]]) #2x2 matrix\n",
    "print(mat_2x2)\n",
    "print()\n",
    "print('Example 3x2 Matrix:')\n",
    "mat_3x2 = np.array([[15,-6],[17,3],[-12,-19]]) #3x2 matrix\n",
    "print(mat_3x2)\n",
    "print()\n",
    "print('Example 2x3 Matrix:')\n",
    "mat_2x3 = np.array([[1,2,3],[4,5,7]]) #2x3 matrix\n",
    "print(mat_2x3)"
   ]
  },
  {
   "cell_type": "markdown",
   "metadata": {
    "cell_id": "00020-b9f3f1cd-9bb6-4194-8d9b-ba091fbb4560",
    "deepnote_cell_height": 52.390625,
    "deepnote_cell_type": "markdown",
    "tags": []
   },
   "source": [
    "Here are some of the types of ways to create matrices in numpy:"
   ]
  },
  {
   "cell_type": "code",
   "execution_count": 9,
   "metadata": {
    "cell_id": "00021-8854936b-efaa-49b4-a364-cff2a7146fda",
    "deepnote_cell_height": 400,
    "deepnote_cell_type": "code",
    "deepnote_to_be_reexecuted": false,
    "execution_millis": 9,
    "execution_start": 1633061036978,
    "source_hash": "fbc6745f",
    "tags": []
   },
   "outputs": [],
   "source": [
    "A = np.matrix([[-1, 2],[3, 4]])  #Use np.matrix instead of np.array\n",
    "\n",
    "B = np.matrix('1 2; 3 4')  #Use Matlab-style syntax\n",
    "\n",
    "C = np.arange(25).reshape((5, 5))  #Create a 1-d range and reshape\n",
    "\n",
    "D = np.array(range(25)).reshape((5, 5))  #Pass a Python range and reshape\n",
    "\n",
    "E = np.array([5] * 25).reshape((5, 5))  #Pass a Python list and reshape\n",
    "\n",
    "F = np.empty((5, 5))  #Allocate but don't initialize\n",
    "\n",
    "G = np.ones((5, 5))  #Initialize with ones\n",
    "\n",
    "H = np.zeros([5, 5])  #Initialize with zeros\n",
    "\n",
    "I = np.ndarray((5, 5))  #Use the low-level constructor\n",
    "\n",
    "J = np.empty_like(C)  #Use a prototype as the basis"
   ]
  },
  {
   "cell_type": "markdown",
   "metadata": {
    "cell_id": "00022-e046b3bf-8ef3-4938-b7ed-e71cfd4eee48",
    "deepnote_cell_type": "text-cell-h3",
    "formattedRanges": [],
    "is_collapsed": false,
    "tags": []
   },
   "source": [
    "### Matrix Manipulation in Numpy"
   ]
  },
  {
   "cell_type": "markdown",
   "metadata": {
    "cell_id": "00023-4b735b23-e4c6-4ee8-a0c6-08679ce2c9ae",
    "deepnote_cell_height": 186.953125,
    "deepnote_cell_type": "markdown",
    "tags": []
   },
   "source": [
    "You can multiply matrices using the `np.dot(A, B)` method\n",
    "\n",
    "Rules to remember:\n",
    "- **m**x**n** * **n**x**p** yields **m**x**p**\n",
    "- **n**x**m** * **n**x**p** yields **NO CAN DO**\n",
    "\n",
    "If you care to, you can read more about the dot product operation [here](https://www.khanacademy.org/math/multivariable-calculus/thinking-about-multivariable-function/x786f2022:vectors-and-matrices/a/dot-products-mvc)"
   ]
  },
  {
   "cell_type": "code",
   "execution_count": 10,
   "metadata": {
    "cell_id": "00024-e1284fce-801a-48c1-9b7c-41f4cfc9551d",
    "deepnote_cell_height": 235.375,
    "deepnote_cell_type": "code",
    "deepnote_to_be_reexecuted": false,
    "execution_millis": 12,
    "execution_start": 1632979395692,
    "source_hash": "d1cfdd93",
    "tags": []
   },
   "outputs": [
    {
     "name": "stdout",
     "output_type": "stream",
     "text": [
      "[[ 7 11 19]\n",
      " [16 25 43]]\n"
     ]
    }
   ],
   "source": [
    "A = np.array([[1, 3],[2,7]]) #2x2\n",
    "B = np.array(([[1, 2, 4], [2, 3, 5]])) #2x3\n",
    "C = np.dot(A,B)\n",
    "print(C) #result is 2x3\n",
    "\n",
    "#D = np.dot(B, A) \n",
    "#NO CAN DO!"
   ]
  },
  {
   "cell_type": "markdown",
   "metadata": {
    "cell_id": "00025-4e0ba742-d4a7-411b-a2ea-6ad090d286c5",
    "deepnote_cell_height": 52.390625,
    "deepnote_cell_type": "markdown",
    "tags": []
   },
   "source": [
    "Transpose of a matrix using `np.transpose()`"
   ]
  },
  {
   "cell_type": "code",
   "execution_count": 11,
   "metadata": {
    "cell_id": "00026-e0c57151-e669-4a2b-a66e-b1c57dbc7772",
    "deepnote_cell_height": 259.9375,
    "deepnote_cell_type": "code",
    "deepnote_to_be_reexecuted": false,
    "execution_millis": 8,
    "execution_start": 1632979408192,
    "source_hash": "54a6ec38",
    "tags": []
   },
   "outputs": [
    {
     "name": "stdout",
     "output_type": "stream",
     "text": [
      "[[1 3]\n",
      " [2 7]]\n",
      "\n",
      "[[1 2]\n",
      " [3 7]]\n"
     ]
    }
   ],
   "source": [
    "print(A)\n",
    "print()\n",
    "A_transpose = np.transpose(A)\n",
    "print(A_transpose)\n"
   ]
  },
  {
   "cell_type": "code",
   "execution_count": 12,
   "metadata": {
    "cell_id": "00027-2fbacd37-8ee6-4556-83bf-c52acf202572",
    "deepnote_cell_height": 280.125,
    "deepnote_cell_type": "code",
    "deepnote_to_be_reexecuted": false,
    "execution_millis": 8,
    "execution_start": 1632979432248,
    "source_hash": "5e15682b",
    "tags": []
   },
   "outputs": [
    {
     "name": "stdout",
     "output_type": "stream",
     "text": [
      "[[1 2 4]\n",
      " [2 3 5]]\n",
      "\n",
      "[[1 2]\n",
      " [2 3]\n",
      " [4 5]]\n"
     ]
    }
   ],
   "source": [
    "print(B)\n",
    "print()\n",
    "\n",
    "B_transpose = np.transpose(B)\n",
    "print(B_transpose)"
   ]
  },
  {
   "cell_type": "markdown",
   "metadata": {
    "cell_id": "00028-219b8fa3-d357-4d45-92ce-0684b2529bac",
    "deepnote_cell_type": "text-cell-h2",
    "formattedRanges": [],
    "is_collapsed": false,
    "tags": []
   },
   "source": [
    "## Introduction to Plotting with Matplotlib"
   ]
  },
  {
   "cell_type": "markdown",
   "metadata": {
    "cell_id": "00029-3b8dae34-3e3c-4f69-bebc-a3758368484b",
    "deepnote_cell_height": 52.390625,
    "deepnote_cell_type": "markdown",
    "tags": []
   },
   "source": [
    "We often want to plot our data. We will certainly go more in depth later, but for now, lets use numpy to get a line plot created"
   ]
  },
  {
   "cell_type": "code",
   "execution_count": 13,
   "metadata": {
    "cell_id": "00030-673f3524-64f7-400f-a544-7497d76f3a5e",
    "deepnote_cell_height": 94,
    "deepnote_cell_type": "code",
    "deepnote_to_be_reexecuted": false,
    "execution_millis": 3,
    "execution_start": 1664557898010,
    "source_hash": "57e8f799",
    "tags": []
   },
   "outputs": [],
   "source": [
    "#this will be our standard import for matplotlib pyplot!\n",
    "from matplotlib import pyplot as plt"
   ]
  },
  {
   "cell_type": "markdown",
   "metadata": {
    "cell_id": "00031-62e92f17-6a51-4938-89e1-fbf6c162b613",
    "deepnote_cell_height": 52.390625,
    "deepnote_cell_type": "markdown",
    "tags": []
   },
   "source": [
    "Let's first establish some basic arrays to visualize!"
   ]
  },
  {
   "cell_type": "code",
   "execution_count": 14,
   "metadata": {
    "cell_id": "00032-38f41fbd-8f7e-4984-8f02-1714d607c969",
    "deepnote_cell_height": 273.5625,
    "deepnote_cell_type": "code",
    "deepnote_to_be_reexecuted": false,
    "execution_millis": 4,
    "execution_start": 1664557899723,
    "source_hash": "17f8ec7",
    "tags": []
   },
   "outputs": [
    {
     "name": "stdout",
     "output_type": "stream",
     "text": [
      "[1 2 3 4 5]\n",
      "[23 30 37 44 51]\n",
      "[10 14 20 28 38]\n"
     ]
    }
   ],
   "source": [
    "array1 = np.array([1, 2, 3, 4, 5])\n",
    "print(array1)\n",
    "\n",
    "array2 = array1 * 7 + 16\n",
    "print(array2)\n",
    "\n",
    "array3 = array1**2 + array1 + 8\n",
    "print(array3)"
   ]
  },
  {
   "cell_type": "code",
   "execution_count": 15,
   "metadata": {
    "cell_id": "00033-db4fd96b-79ce-4f0b-8a22-c12978f03193",
    "deepnote_cell_height": 542,
    "deepnote_cell_type": "code",
    "deepnote_output_heights": [
     414
    ],
    "deepnote_to_be_reexecuted": false,
    "execution_millis": 629,
    "execution_start": 1664557901358,
    "source_hash": "baa7b452",
    "tags": []
   },
   "outputs": [
    {
     "data": {
      "image/png": "[encoded data removed]",
      "text/plain": [
       "<Figure size 640x480 with 1 Axes>"
      ]
     },
     "metadata": {},
     "output_type": "display_data"
    }
   ],
   "source": [
    "#for the most basic plots we can use plt.plot(x, y)\n",
    "plt.plot(array1, array2);\n",
    "#I added a semi-colon at the end to clean up an unwanted message (not necessary)"
   ]
  },
  {
   "cell_type": "code",
   "execution_count": 16,
   "metadata": {
    "cell_id": "00034-171f1537-72cc-4fdc-819e-208742baa135",
    "deepnote_cell_height": 506,
    "deepnote_cell_type": "code",
    "deepnote_output_heights": [
     414
    ],
    "deepnote_to_be_reexecuted": false,
    "execution_millis": 277,
    "execution_start": 1664557905162,
    "source_hash": "4284bc2e",
    "tags": []
   },
   "outputs": [
    {
     "data": {
      "image/png": "[encoded data removed]",
      "text/plain": [
       "<Figure size 640x480 with 1 Axes>"
      ]
     },
     "metadata": {},
     "output_type": "display_data"
    }
   ],
   "source": [
    "plt.plot(array1, array3);"
   ]
  },
  {
   "cell_type": "markdown",
   "metadata": {
    "cell_id": "00035-5817bae5-0dbc-4c9f-ad58-c9049aab249a",
    "deepnote_cell_type": "text-cell-h2",
    "formattedRanges": [],
    "is_collapsed": false,
    "tags": []
   },
   "source": [
    "## Brief intro to Pandas"
   ]
  },
  {
   "cell_type": "markdown",
   "metadata": {
    "cell_id": "00036-18c5133b-44b7-4456-af9e-384858d44ffa",
    "deepnote_cell_height": 88.78125,
    "deepnote_cell_type": "markdown",
    "tags": []
   },
   "source": [
    "Pandas uses a big matrix to store data in what they call a \"DataFrame\"\n",
    "\n",
    "This is most important to us to store our data then use it for plotting!"
   ]
  },
  {
   "cell_type": "code",
   "execution_count": 17,
   "metadata": {
    "cell_id": "00037-a4eefc35-1f69-4711-8ca9-a7beb9f6958e",
    "deepnote_cell_height": 94,
    "deepnote_cell_type": "code",
    "deepnote_to_be_reexecuted": false,
    "execution_millis": 1,
    "execution_start": 1664557910008,
    "source_hash": "8f301ba9",
    "tags": []
   },
   "outputs": [],
   "source": [
    "#here is our standard pandas import statement\n",
    "import pandas as pd"
   ]
  },
  {
   "cell_type": "markdown",
   "metadata": {
    "cell_id": "00038-1bc55f39-94fc-4d4a-bc7b-530271489a8b",
    "deepnote_cell_height": 52.390625,
    "deepnote_cell_type": "markdown",
    "tags": []
   },
   "source": [
    "We will use the `pd.read_csv(filename)` functionality for the lab today!"
   ]
  },
  {
   "cell_type": "code",
   "execution_count": 19,
   "metadata": {
    "cell_id": "00039-08e3781f-e93a-4160-8bb8-5484cf5fc6c6",
    "deepnote_cell_height": 531,
    "deepnote_cell_type": "code",
    "deepnote_to_be_reexecuted": false,
    "execution_millis": 710,
    "execution_start": 1664557919595,
    "source_hash": "64e610a",
    "tags": []
   },
   "outputs": [
    {
     "data": {
      "text/html": [
       "<div>\n",
       "<style scoped>\n",
       "    .dataframe tbody tr th:only-of-type {\n",
       "        vertical-align: middle;\n",
       "    }\n",
       "\n",
       "    .dataframe tbody tr th {\n",
       "        vertical-align: top;\n",
       "    }\n",
       "\n",
       "    .dataframe thead th {\n",
       "        text-align: right;\n",
       "    }\n",
       "</style>\n",
       "<table border=\"1\" class=\"dataframe\">\n",
       "  <thead>\n",
       "    <tr style=\"text-align: right;\">\n",
       "      <th></th>\n",
       "      <th>Time</th>\n",
       "      <th>Voltage</th>\n",
       "    </tr>\n",
       "  </thead>\n",
       "  <tbody>\n",
       "    <tr>\n",
       "      <th>0</th>\n",
       "      <td>0</td>\n",
       "      <td>10.0</td>\n",
       "    </tr>\n",
       "    <tr>\n",
       "      <th>1</th>\n",
       "      <td>1</td>\n",
       "      <td>9.7</td>\n",
       "    </tr>\n",
       "    <tr>\n",
       "      <th>2</th>\n",
       "      <td>2</td>\n",
       "      <td>4.5</td>\n",
       "    </tr>\n",
       "    <tr>\n",
       "      <th>3</th>\n",
       "      <td>3</td>\n",
       "      <td>8.7</td>\n",
       "    </tr>\n",
       "    <tr>\n",
       "      <th>4</th>\n",
       "      <td>4</td>\n",
       "      <td>8.6</td>\n",
       "    </tr>\n",
       "    <tr>\n",
       "      <th>5</th>\n",
       "      <td>5</td>\n",
       "      <td>2.3</td>\n",
       "    </tr>\n",
       "    <tr>\n",
       "      <th>6</th>\n",
       "      <td>6</td>\n",
       "      <td>15.0</td>\n",
       "    </tr>\n",
       "    <tr>\n",
       "      <th>7</th>\n",
       "      <td>7</td>\n",
       "      <td>-9.0</td>\n",
       "    </tr>\n",
       "  </tbody>\n",
       "</table>\n",
       "</div>"
      ],
      "text/plain": [
       "   Time  Voltage\n",
       "0     0     10.0\n",
       "1     1      9.7\n",
       "2     2      4.5\n",
       "3     3      8.7\n",
       "4     4      8.6\n",
       "5     5      2.3\n",
       "6     6     15.0\n",
       "7     7     -9.0"
      ]
     },
     "metadata": {},
     "output_type": "display_data"
    }
   ],
   "source": [
    "df = pd.read_csv('/work/Fall 2022/for_students/Week2/TutorialFile.csv')\n",
    "display(df)"
   ]
  },
  {
   "cell_type": "code",
   "execution_count": 20,
   "metadata": {
    "cell_id": "00040-074b5997-7796-4f8d-9692-1f53a5f4b8d2",
    "deepnote_cell_height": 199.375,
    "deepnote_cell_type": "code",
    "deepnote_to_be_reexecuted": false,
    "execution_millis": 6,
    "execution_start": 1664557923677,
    "source_hash": "26d893e4",
    "tags": []
   },
   "outputs": [
    {
     "name": "stdout",
     "output_type": "stream",
     "text": [
      "[0 1 2 3 4 5 6 7]\n",
      "[10.   9.7  4.5  8.7  8.6  2.3 15.  -9. ]\n"
     ]
    }
   ],
   "source": [
    "time = df.loc[:, 'Time'].values\n",
    "print(time)\n",
    "\n",
    "volts = df.loc[:,'Voltage'].values\n",
    "print(volts)"
   ]
  },
  {
   "cell_type": "code",
   "execution_count": 21,
   "metadata": {
    "cell_id": "00041-8c6add70-3393-43b0-849b-c38272d8b919",
    "deepnote_cell_height": 506,
    "deepnote_cell_type": "code",
    "deepnote_output_heights": [
     414
    ],
    "deepnote_to_be_reexecuted": false,
    "execution_millis": 1209,
    "execution_start": 1664557925645,
    "source_hash": "49eecff4",
    "tags": []
   },
   "outputs": [
    {
     "data": {
      "image/png": "[encoded data removed]",
      "text/plain": [
       "<Figure size 640x480 with 1 Axes>"
      ]
     },
     "metadata": {},
     "output_type": "display_data"
    }
   ],
   "source": [
    "plt.plot(time, volts);"
   ]
  },
  {
   "cell_type": "code",
   "execution_count": 24,
   "metadata": {
    "cell_id": "67b1c619f6934c299b77e380351cab3f",
    "deepnote_cell_height": 838,
    "deepnote_cell_type": "code",
    "deepnote_output_heights": [
     530,
     512
    ],
    "deepnote_to_be_reexecuted": false,
    "execution_millis": 1165,
    "execution_start": 1667410632395,
    "source_hash": "40f44b6",
    "tags": []
   },
   "outputs": [
    {
     "data": {
      "image/png": "[encoded data removed]",
      "text/plain": [
       "<Figure size 400x600 with 1 Axes>"
      ]
     },
     "metadata": {},
     "output_type": "display_data"
    }
   ],
   "source": [
    "from matplotlib import pyplot as plt\n",
    "import pandas as pd\n",
    "\n",
    "df = pd.read_csv('/work/Fall 2022/for_students/Week2/TutorialFile.csv')\n",
    "time = df.loc[:, 'Time'].values\n",
    "volts = df.loc[:,'Voltage'].values\n",
    "\n",
    "fig, ax = plt.subplots(figsize=(4,6))\n",
    "ax.plot(time,  volts)\n",
    "ax.set_xlabel('time (s)', fontsize=12)\n",
    "ax.set_ylabel('Voltage values as a function of time', fontsize=12)\n",
    "ax.grid()\n"
   ]
  }
 ],
 "metadata": {
  "deepnote": {
   "is_reactive": false
  },
  "deepnote_execution_queue": [],
  "deepnote_notebook_id": "800aadd8-1e39-4c36-8920-998a22d02ef1",
  "deepnote_persisted_session": {
   "createdAt": "2022-11-02T18:02:20.166Z"
  },
  "kernelspec": {
   "display_name": "Python 3",
   "language": "python",
   "name": "python3"
  },
  "language_info": {
   "codemirror_mode": {
    "name": "ipython",
    "version": 3
   },
   "file_extension": ".py",
   "mimetype": "text/x-python",
   "name": "python",
   "nbconvert_exporter": "python",
   "pygments_lexer": "ipython3",
   "version": "3.10.6"
  },
  "orig_nbformat": 2
 },
 "nbformat": 4,
 "nbformat_minor": 2
}
