{
 "cells": [
  {
   "cell_type": "markdown",
   "id": "41c9b163-d834-4972-bf51-f9da8379110c",
   "metadata": {
    "deletable": false,
    "editable": false,
    "nbgrader": {
     "cell_type": "markdown",
     "checksum": "c2f332cc41aa1c471defacffd8a5fe82",
     "grade": false,
     "grade_id": "CS1010",
     "locked": true,
     "schema_version": 3,
     "solution": false,
     "task": false
    }
   },
   "source": [
    "# CS1010 Assignment 1\n",
    "### Instructor:\n",
    "**Prof. Kartik Bulusu [CS & MAE]**\n",
    "\n",
    "### GTA:\n",
    "**Oscar Southwell**\n",
    "\n",
    "### UTA:\n",
    "**Sameen Ahmad, Talia Novack**\n",
    "\n",
    "### LA:\n",
    "**Manue Alaimo, Selman Eris, Saif Alzaabi, Gustavo Londono, Amy Longua, Pravin Khanal**\n",
    "\n",
    "### Grader:\n",
    "**Rutvik Solanki**\n"
   ]
  },
  {
   "cell_type": "code",
   "execution_count": 1,
   "id": "1e6c0ddd-1a06-49bd-9f14-200bdd53cca2",
   "metadata": {},
   "outputs": [],
   "source": [
    "#we have imported the math library for you!\n",
    "#Please use 'Shift+Enter' to execute this cell\n",
    "import math\n",
    "import numpy as np"
   ]
  },
  {
   "cell_type": "code",
   "execution_count": 2,
   "id": "252386aa-6c6a-4a01-8dee-d560b47631ad",
   "metadata": {},
   "outputs": [
    {
     "name": "stdout",
     "output_type": "stream",
     "text": [
      "Group member 1 is named Andre\n"
     ]
    }
   ],
   "source": [
    "#Your names go here!\n",
    "name1 = 'Andre'\n",
    "\n",
    "print('Group member 1 is named ' + name1)"
   ]
  },
  {
   "cell_type": "markdown",
   "id": "d78ee606-79c2-480f-8c4c-9c868973cec8",
   "metadata": {},
   "source": [
    "## Sample Question\n",
    "**This is how you and your group members should answer each question individually.**\n",
    "\n",
    "Everyone should write their own line of code and add a comment next to their line with their name. For example, if the problem says \"Define a variable x that is equal to 5\" you would answer like this:"
   ]
  },
  {
   "cell_type": "code",
   "execution_count": 3,
   "id": "6fce60be-de9d-4733-99ea-2b3f89d1805d",
   "metadata": {},
   "outputs": [],
   "source": [
    "x = 5 "
   ]
  },
  {
   "cell_type": "markdown",
   "id": "76774613-d0eb-4323-889e-9de6f747f9d7",
   "metadata": {},
   "source": [
    "## Question 1.\n",
    " Save the value of `20` to a variable called `twenty`, then print that variable.\n",
    "\n",
    " Also save the value of `15` to a variable called `number` and print that variable."
   ]
  },
  {
   "cell_type": "code",
   "execution_count": 4,
   "id": "12c29647-e326-4c51-9d0a-e92c3113c96c",
   "metadata": {
    "deletable": false,
    "nbgrader": {
     "cell_type": "code",
     "checksum": "7c20d8b77902771d67fba413b216dba4",
     "grade": false,
     "grade_id": "question-1",
     "locked": false,
     "schema_version": 3,
     "solution": true,
     "task": false
    }
   },
   "outputs": [
    {
     "name": "stdout",
     "output_type": "stream",
     "text": [
      "20\n",
      "15\n"
     ]
    }
   ],
   "source": [
    "# YOUR CODE HERE\n",
    "twenty = 20\n",
    "print(twenty)\n",
    "\n",
    "number = 15\n",
    "print(15)"
   ]
  },
  {
   "cell_type": "markdown",
   "id": "cd1676a0-bd81-45d3-b8a3-1a76b839fd72",
   "metadata": {},
   "source": [
    "## Question 2.\n",
    "Save the string of the word `Hi` to a variable called `greeting`, and print the variable\n",
    "\n",
    "**Hint**: remember strings require quotations!"
   ]
  },
  {
   "cell_type": "code",
   "execution_count": 5,
   "id": "8c70d836-805a-442e-ba2c-25596c5b5717",
   "metadata": {
    "deletable": false,
    "nbgrader": {
     "cell_type": "code",
     "checksum": "909717834e7d9b2a3fbcb5bb712751b9",
     "grade": false,
     "grade_id": "question-2",
     "locked": false,
     "schema_version": 3,
     "solution": true,
     "task": false
    }
   },
   "outputs": [
    {
     "name": "stdout",
     "output_type": "stream",
     "text": [
      "Hi\n"
     ]
    }
   ],
   "source": [
    "# YOUR CODE HERE\n",
    "greeting = \"Hi\"\n",
    "print(greeting)"
   ]
  },
  {
   "cell_type": "markdown",
   "id": "c7f702d5-edc4-444d-b748-51cc224eed67",
   "metadata": {},
   "source": [
    "## Question 3.\n",
    "Multiply the variable `twenty` by the variable `number`. Save this result as `product` and print the result"
   ]
  },
  {
   "cell_type": "code",
   "execution_count": 7,
   "id": "23a3d7da-5df9-428a-b37a-e17ff47fb455",
   "metadata": {
    "deletable": false,
    "nbgrader": {
     "cell_type": "code",
     "checksum": "4fd23555e73bf40c951b3f774ce30958",
     "grade": false,
     "grade_id": "question-3",
     "locked": false,
     "schema_version": 3,
     "solution": true,
     "task": false
    }
   },
   "outputs": [
    {
     "name": "stdout",
     "output_type": "stream",
     "text": [
      "300\n"
     ]
    }
   ],
   "source": [
    "# YOUR CODE HERE\n",
    "product = twenty * number\n",
    "print(product)"
   ]
  },
  {
   "cell_type": "markdown",
   "id": "fc641602-9922-4f03-867d-a501886b6720",
   "metadata": {},
   "source": [
    "## Question 4.\n",
    "Calculate the cosine $\\cos()$ of the value $\\pi$ and save it to a variable called `x`.\n",
    "\n",
    "**Hint**: use the math library to calculate $\\pi$ and $\\cos()$"
   ]
  },
  {
   "cell_type": "code",
   "execution_count": 10,
   "id": "d4383d31-d012-439a-a92d-087419acb7ec",
   "metadata": {
    "deletable": false,
    "nbgrader": {
     "cell_type": "code",
     "checksum": "8298f0669ea71ed3674112fe0daa5394",
     "grade": false,
     "grade_id": "question-4",
     "locked": false,
     "schema_version": 3,
     "solution": true,
     "task": false
    }
   },
   "outputs": [],
   "source": [
    "# YOUR CODE HERE\n",
    "x = math.cos(math.pi)"
   ]
  },
  {
   "cell_type": "markdown",
   "id": "6c9292e8-83fe-4009-af98-1708d61c0ebc",
   "metadata": {},
   "source": [
    "## Question 5.\n",
    "\n",
    "Compute the following equation using python and printing the value\n",
    "- G = 1,\n",
    "- M = 10\n",
    "- L = 2\n",
    "- r = 3\n",
    "- s = 1\n",
    "\n",
    "$y= -GM \\frac{s}{r^2\\sqrt{r^2 +L^2/4}}$"
   ]
  },
  {
   "cell_type": "code",
   "execution_count": 24,
   "id": "5585bbe3-6f82-4c34-a1ba-bd2f2ead6517",
   "metadata": {
    "deletable": false,
    "nbgrader": {
     "cell_type": "code",
     "checksum": "599261d7466a47926ce60d3e7d10d168",
     "grade": false,
     "grade_id": "question-5",
     "locked": false,
     "schema_version": 3,
     "solution": true,
     "task": false
    }
   },
   "outputs": [
    {
     "name": "stdout",
     "output_type": "stream",
     "text": [
      "-0.35136418446315326\n"
     ]
    }
   ],
   "source": [
    "# YOUR CODE HERE\n",
    "G = 1\n",
    "M = 10\n",
    "L = 2\n",
    "r = 3\n",
    "s = 1\n",
    "result = -1 * G * M * (s / (r**2 * math.sqrt(r**2 + L**2/4) ) )\n",
    "print(result)"
   ]
  },
  {
   "cell_type": "markdown",
   "id": "6adc012d-1f1d-44c8-9a2e-1da79af4b4bd",
   "metadata": {},
   "source": [
    "## Question 6.\n",
    "Define 35 trillion in using each of the methods we learned in class. Print the results of each:\n",
    "- Default value (like any other number)\n",
    "- Adding underscore seperators\n",
    "- Using scientific notation\n",
    "\n",
    "**Hint**: 1 trillion has how many zeroes?"
   ]
  },
  {
   "cell_type": "code",
   "execution_count": 26,
   "id": "cb176970-2058-42ee-88bd-e08d8344e4b7",
   "metadata": {
    "deletable": false,
    "nbgrader": {
     "cell_type": "code",
     "checksum": "0aed5876637533c885109c960c744270",
     "grade": true,
     "grade_id": "question-6",
     "locked": false,
     "points": 3,
     "schema_version": 3,
     "solution": true,
     "task": false
    }
   },
   "outputs": [
    {
     "name": "stdout",
     "output_type": "stream",
     "text": [
      "35000000000000 35000000000000 35000000000000\n"
     ]
    }
   ],
   "source": [
    "# YOUR CODE HERE\n",
    "default = 35000000000000\n",
    "underscore = 35_000_000_000_000\n",
    "scientific = 35 * pow(10, 12)\n",
    "\n",
    "print(default, underscore, scientific)"
   ]
  },
  {
   "cell_type": "markdown",
   "id": "081a52c4-ffa8-4bb9-ae3b-03936c518c52",
   "metadata": {},
   "source": [
    "## Question 7.\n",
    "Write a code to calculate the following and save the result to a variable named `y1`:\n",
    "\n",
    "$y1 = \\frac{400+\\frac{37}{43}}{(10)(3-18)}$\n",
    "\n",
    "**Hint**: Be careful with parenthesis!"
   ]
  },
  {
   "cell_type": "code",
   "execution_count": 29,
   "id": "8c83866b-df08-4a27-92f0-2e62415a33e1",
   "metadata": {
    "deletable": false,
    "nbgrader": {
     "cell_type": "code",
     "checksum": "cf5b6bb5bb6db767336502860525c478",
     "grade": false,
     "grade_id": "question-7",
     "locked": false,
     "schema_version": 3,
     "solution": true,
     "task": false
    }
   },
   "outputs": [
    {
     "name": "stdout",
     "output_type": "stream",
     "text": [
      "-2.6724031007751936\n"
     ]
    }
   ],
   "source": [
    "# YOUR CODE HERE\n",
    "\n",
    "y1 = (400 + (37/43)) / (10 * (3-18))\n",
    "print(y1)"
   ]
  },
  {
   "cell_type": "markdown",
   "id": "66ec4fe0-c479-49e5-afb6-46eeffabc1fe",
   "metadata": {},
   "source": [
    "## Congrats!!\n",
    " You completed your first Python Assignment in CS 1010! Give yourself a round of applause!!"
   ]
  },
  {
   "cell_type": "markdown",
   "id": "02316282-a478-4c05-b58a-0083a33a603e",
   "metadata": {},
   "source": [
    "### Below cells are part of test section that will run your code against some test cases, **DO NOT** interact with these cells. \n",
    "### If you add anything in these cells, your might end up scoring a 0 for this assignment."
   ]
  },
  {
   "cell_type": "code",
   "execution_count": null,
   "id": "a1433e66-099f-430d-a443-f1458006d1a7",
   "metadata": {
    "deletable": false,
    "editable": false,
    "nbgrader": {
     "cell_type": "code",
     "checksum": "2d4595835952263f9dbe4efe64a5c4da",
     "grade": true,
     "grade_id": "autograde",
     "locked": true,
     "points": 1,
     "schema_version": 3,
     "solution": false,
     "task": false
    }
   },
   "outputs": [],
   "source": []
  },
  {
   "cell_type": "code",
   "execution_count": null,
   "id": "8de4af14-e9fb-422d-b1f8-85e82f811b2d",
   "metadata": {
    "deletable": false,
    "editable": false,
    "nbgrader": {
     "cell_type": "code",
     "checksum": "9edda3d561eddbf40d0a9ff5c111dfc5",
     "grade": true,
     "grade_id": "cell-8f018442aaec510c",
     "locked": true,
     "points": 1,
     "schema_version": 3,
     "solution": false,
     "task": false
    }
   },
   "outputs": [],
   "source": []
  },
  {
   "cell_type": "code",
   "execution_count": null,
   "id": "81ebce0b-76ff-4555-b351-58587558a237",
   "metadata": {
    "deletable": false,
    "editable": false,
    "nbgrader": {
     "cell_type": "code",
     "checksum": "2c38109589137dbb6793c51a128b5db1",
     "grade": true,
     "grade_id": "cell-b949b430dd7cea02",
     "locked": true,
     "points": 1,
     "schema_version": 3,
     "solution": false,
     "task": false
    }
   },
   "outputs": [],
   "source": []
  },
  {
   "cell_type": "code",
   "execution_count": null,
   "id": "148f9130-a6dd-479a-a1e7-0d54c703622c",
   "metadata": {
    "deletable": false,
    "editable": false,
    "nbgrader": {
     "cell_type": "code",
     "checksum": "db9c8698a15bd780adcd7fbc8c5d18ce",
     "grade": true,
     "grade_id": "cell-d4746035321fc935",
     "locked": true,
     "points": 1,
     "schema_version": 3,
     "solution": false,
     "task": false
    }
   },
   "outputs": [],
   "source": []
  },
  {
   "cell_type": "code",
   "execution_count": null,
   "id": "5f0b0124-cece-45f3-8516-e30439be9a03",
   "metadata": {
    "deletable": false,
    "editable": false,
    "nbgrader": {
     "cell_type": "code",
     "checksum": "b9c3f3f791d81ca39381a25cb0804976",
     "grade": true,
     "grade_id": "cell-9e40feff8df7e328",
     "locked": true,
     "points": 1,
     "schema_version": 3,
     "solution": false,
     "task": false
    }
   },
   "outputs": [],
   "source": []
  },
  {
   "cell_type": "code",
   "execution_count": null,
   "id": "da3a1672-6376-459e-9fdc-4447e91fcdeb",
   "metadata": {
    "deletable": false,
    "editable": false,
    "nbgrader": {
     "cell_type": "code",
     "checksum": "15e3efbca5226949efa544ec081d7b0a",
     "grade": true,
     "grade_id": "cell-76f560ffcbd1d486",
     "locked": true,
     "points": 1,
     "schema_version": 3,
     "solution": false,
     "task": false
    }
   },
   "outputs": [],
   "source": []
  },
  {
   "cell_type": "code",
   "execution_count": null,
   "id": "225f8600-069f-4fd0-a411-2a99ae1090a8",
   "metadata": {
    "deletable": false,
    "editable": false,
    "nbgrader": {
     "cell_type": "code",
     "checksum": "00d6ad0b3555f0d2b862d967c8dd2c6d",
     "grade": true,
     "grade_id": "cell-774b42c6dc6b3984",
     "locked": true,
     "points": 1,
     "schema_version": 3,
     "solution": false,
     "task": false
    }
   },
   "outputs": [],
   "source": []
  }
 ],
 "metadata": {
  "kernelspec": {
   "display_name": "Python 3 (ipykernel)",
   "language": "python",
   "name": "python3"
  },
  "language_info": {
   "codemirror_mode": {
    "name": "ipython",
    "version": 3
   },
   "file_extension": ".py",
   "mimetype": "text/x-python",
   "name": "python",
   "nbconvert_exporter": "python",
   "pygments_lexer": "ipython3",
   "version": "3.11.5"
  }
 },
 "nbformat": 4,
 "nbformat_minor": 5
}
