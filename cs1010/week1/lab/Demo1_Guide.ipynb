{
 "cells": [
  {
   "cell_type": "markdown",
   "metadata": {
    "cell_id": "e1091d3f-9617-401f-9cc0-2e63c9092c3e",
    "deepnote_cell_type": "text-cell-h1",
    "formattedRanges": [],
    "is_collapsed": false,
    "tags": []
   },
   "source": [
    "# CS 1010 - Week1"
   ]
  },
  {
   "cell_type": "markdown",
   "metadata": {
    "cell_id": "00001-758f8720-f847-4ca5-aa18-b515c64910f5",
    "deepnote_cell_height": 332.390625,
    "deepnote_cell_type": "markdown",
    "tags": []
   },
   "source": [
    "### Instructor: \n",
    "**Prof. Kartik Bulusu [CS & MAE]**\n",
    "\n",
    "#### GTA: \n",
    "**Oscar Southwell [EMSE]**\n",
    "\n",
    "#### UTAs:\n",
    "**Sameen Ahmad [CS], Talia Novack [CS]**\n",
    "\n",
    "#### LAs: \n",
    "**Manue Alaimo [CS], Selamn Eris [CS], Saif Alzaabi [CS], Pravin Khanal [CS], Gustavo Londono [CS], Amy Longua [CS]**\n",
    "\n",
    "#### Grader:\n",
    "Rutvik Solanki [CS]\n",
    "\n",
    "\n",
    "If you have any questions regarding Python, please feel free to send a slack message or email to a member of the teaching team or come to office hours! We are happy to help!!"
   ]
  },
  {
   "cell_type": "markdown",
   "metadata": {
    "cell_id": "00004-e24b1cc5-43c0-4e68-baf1-760f47256e13",
    "deepnote_cell_height": 363.578125,
    "deepnote_cell_type": "markdown",
    "deepnote_to_be_reexecuted": false,
    "execution_millis": 5,
    "execution_start": 1629929696620,
    "source_hash": "1683a69f",
    "tags": []
   },
   "source": [
    "### Print and Type functions\n",
    "\n",
    "These functions are provided by python to do certain tasks. Print shows the result underneath the code cell and type determines the kind of variable we are working with.\n",
    "\n",
    "We \"call\" these functions by adding parenthesis to the end of them and providing our input in it. \n",
    "\n",
    "`print(input)`\n",
    "\n",
    "`type(input)`\n",
    "\n",
    "If we give nothing to print, `print()`, then a blank line will be printed\n",
    "\n",
    "If we give print more than one thing seperated by commas, `print(a, b, c)`, then each will be printed in a row.\n",
    "\n",
    "We can see the results of `type(input)` by printing it"
   ]
  },
  {
   "cell_type": "markdown",
   "metadata": {
    "cell_id": "00005-1edd47d6-1de1-474a-a6e6-f04081c6ff84",
    "deepnote_cell_height": 54,
    "deepnote_cell_type": "markdown",
    "tags": []
   },
   "source": [
    "#### Try out some examples!"
   ]
  },
  {
   "cell_type": "code",
   "execution_count": 8,
   "metadata": {
    "cell_id": "00006-bf43d09e-9e9f-4991-ba4a-60a9c487a9d0",
    "deepnote_cell_height": 106.6875,
    "deepnote_cell_type": "code",
    "deepnote_to_be_reexecuted": false,
    "execution_millis": 14,
    "execution_start": 1664913673543,
    "source_hash": "2a264ab6",
    "tags": []
   },
   "outputs": [
    {
     "name": "stdout",
     "output_type": "stream",
     "text": [
      "Hello World!\n"
     ]
    }
   ],
   "source": [
    "print('Hello World!')"
   ]
  },
  {
   "cell_type": "code",
   "execution_count": 9,
   "metadata": {
    "cell_id": "00007-6bf87497-92bf-4478-8429-b80acf71101f",
    "deepnote_cell_height": 349.171875,
    "deepnote_cell_type": "code",
    "deepnote_to_be_reexecuted": false,
    "execution_millis": 638,
    "execution_start": 1664913675656,
    "source_hash": "9ad9a703",
    "tags": []
   },
   "outputs": [
    {
     "name": "stdout",
     "output_type": "stream",
     "text": [
      "6\n",
      "My first Python code!\n",
      "\n",
      "8 17 Hi!\n",
      "\n",
      "<class 'int'>\n"
     ]
    }
   ],
   "source": [
    "print(6)\n",
    "\n",
    "print('My first Python code!')\n",
    "\n",
    "print()\n",
    "print(8, 17, 'Hi!')\n",
    "\n",
    "print()\n",
    "print(type(8))"
   ]
  },
  {
   "cell_type": "code",
   "execution_count": 10,
   "metadata": {
    "cell_id": "00008-8664df8a-f201-4d3e-a207-5bcdd5a3cdb8",
    "deepnote_cell_height": 94,
    "deepnote_cell_type": "code",
    "deepnote_to_be_reexecuted": false,
    "execution_millis": 1,
    "execution_start": 1664913682615,
    "source_hash": "7868e230",
    "tags": []
   },
   "outputs": [],
   "source": [
    "#Comments in python do not affect the code and are done with single hashtags \n",
    "#in a code cell"
   ]
  },
  {
   "cell_type": "markdown",
   "metadata": {
    "cell_id": "00003-e4b5bc41-cdca-4df8-810f-dde5703805dc",
    "deepnote_cell_height": 839.75,
    "deepnote_cell_type": "markdown",
    "tags": []
   },
   "source": [
    "### Variables in Python\n",
    "\n",
    "All programming languages, including python, use memory within the computer to store  information in variables. For example: the following code defines the integer 2 to the variable of x in the memory.\n",
    "\n",
    "Common data types:\n",
    "- **Integers** are non-decimal numbers\n",
    "    - 1\n",
    "    - 2\n",
    "    - 100\n",
    "    - 4200000\n",
    "- **Strings** are groups of characters in \" \" or ' ' \n",
    "    - 'Hi!'\n",
    "    - \"Hey_Tyler_2\"\n",
    "    - \"Welcome to Python\"\n",
    "- **Doubles**/**Float** are decimal numbers\n",
    "    - 1.0\n",
    "    - 2.6\n",
    "    - 100.72\n",
    "    - 42069.17575921\n",
    "- **Bool** a variable representing True or False values\n",
    "- **Lists** are groupings of other variables in square brackets\n",
    "- **Arrays** are very similar to lists but are more memory efficient and optimized\n",
    "- **Method** does something to a variable using `var.method` or `var.method()`\n",
    "- **Function** does something to a variable using `function(var)`\n",
    "\n",
    "\n",
    "Define variables with the single equal sign: '='\n",
    "\n",
    "`variable_name = value`\n",
    "\n",
    "The right item, in this case `value`  always gets assigned to the memory location on the left called `variable_name`. "
   ]
  },
  {
   "cell_type": "code",
   "execution_count": 11,
   "metadata": {
    "cell_id": "00009-837b86be-cf5c-4b9f-aa49-8fc41820937f",
    "deepnote_cell_height": 663.640625,
    "deepnote_cell_type": "code",
    "deepnote_to_be_reexecuted": false,
    "execution_millis": 837,
    "execution_start": 1664913755350,
    "source_hash": "cf9cf109",
    "tags": []
   },
   "outputs": [
    {
     "name": "stdout",
     "output_type": "stream",
     "text": [
      "2\n",
      "<class 'int'>\n",
      "\n",
      "10.7\n",
      "<class 'float'>\n",
      "γ is a greek symbol\n",
      "<class 'str'>\n",
      "\n",
      "Spectacular!\n",
      "<class 'str'>\n",
      "\n"
     ]
    }
   ],
   "source": [
    "#example of a integer\n",
    "x = 2\n",
    "print(x)\n",
    "print(type(x))\n",
    "print('')\n",
    "\n",
    "#example of a float\n",
    "# copied a greek symbol from a simple google search\n",
    "β = 10.7\n",
    "print(β)\n",
    "print(type(β))\n",
    "γ = 'γ is a greek symbol'\n",
    "print(γ)\n",
    "print(type(γ))\n",
    "print('')\n",
    "\n",
    "#example of a string\n",
    "string_variable = 'Spectacular!'\n",
    "print(string_variable)\n",
    "print(type(string_variable))\n",
    "print('')"
   ]
  },
  {
   "cell_type": "code",
   "execution_count": 12,
   "metadata": {
    "cell_id": "00010-230c34d5-4f2a-45ee-aaff-78f137856051",
    "deepnote_cell_height": 617.078125,
    "deepnote_cell_type": "code",
    "deepnote_to_be_reexecuted": false,
    "execution_millis": 21,
    "execution_start": 1662736703798,
    "source_hash": "a0865d57",
    "tags": []
   },
   "outputs": [
    {
     "name": "stdout",
     "output_type": "stream",
     "text": [
      "Variable          Type      Data/Info\n",
      "-------------------------------------\n",
      "math              module    <module 'math' from '/Lib<...>h.cpython-310-darwin.so'>\n",
      "np                module    <module 'numpy' from '/Li<...>kages/numpy/__init__.py'>\n",
      "string_variable   str       Spectacular!\n",
      "x                 int       2\n",
      "β                 float     10.7\n",
      "γ                 str       γ is a greek symbol\n"
     ]
    }
   ],
   "source": [
    "#will show the current variable information\n",
    "%whos "
   ]
  },
  {
   "cell_type": "code",
   "execution_count": 13,
   "metadata": {
    "cell_id": "00011-bca787f1-9c65-486a-8954-7e954c6ae5c5",
    "deepnote_cell_height": 180.390625,
    "deepnote_cell_type": "code",
    "deepnote_to_be_reexecuted": false,
    "execution_millis": 165,
    "execution_start": 1664913780835,
    "source_hash": "9cb869a2",
    "tags": []
   },
   "outputs": [
    {
     "name": "stdout",
     "output_type": "stream",
     "text": [
      "This is a string\n",
      "<class 'str'>\n"
     ]
    }
   ],
   "source": [
    "#This updates the value of x in the memory to be the string 'This is a string'\n",
    "x = 'This is a string'\n",
    "print (x)\n",
    "print(type(x))"
   ]
  },
  {
   "cell_type": "code",
   "execution_count": 14,
   "metadata": {
    "cell_id": "00012-0bc34d07-8861-42f6-9457-b34e8f8f01d5",
    "deepnote_cell_height": 223.171875,
    "deepnote_cell_type": "code",
    "deepnote_to_be_reexecuted": false,
    "execution_millis": 3,
    "execution_start": 1664913781402,
    "source_hash": "c7bc9f24",
    "tags": []
   },
   "outputs": [
    {
     "name": "stdout",
     "output_type": "stream",
     "text": [
      "Variable          Type      Data/Info\n",
      "-------------------------------------\n",
      "math              module    <module 'math' from '/Lib<...>h.cpython-310-darwin.so'>\n",
      "np                module    <module 'numpy' from '/Li<...>kages/numpy/__init__.py'>\n",
      "string_variable   str       Spectacular!\n",
      "x                 str       This is a string\n",
      "β                 float     10.7\n",
      "γ                 str       γ is a greek symbol\n"
     ]
    }
   ],
   "source": [
    "#notice the new information for x\n",
    "%whos "
   ]
  },
  {
   "cell_type": "markdown",
   "metadata": {
    "cell_id": "00013-b4aed1cc-1225-46d0-8331-a9fab25f924c",
    "deepnote_cell_height": 100.390625,
    "deepnote_cell_type": "markdown",
    "tags": []
   },
   "source": [
    "### Data Type Conversion\n",
    "The next cell shows that you can convert from a integer to an string using `str()`"
   ]
  },
  {
   "cell_type": "code",
   "execution_count": 15,
   "metadata": {
    "cell_id": "00014-adf7d0dd-6bca-49f1-851f-be9f4be03abd",
    "deepnote_cell_height": 142.6875,
    "deepnote_cell_type": "code",
    "deepnote_to_be_reexecuted": false,
    "execution_millis": 13,
    "execution_start": 1664913787746,
    "source_hash": "1878f95d",
    "tags": []
   },
   "outputs": [
    {
     "name": "stdout",
     "output_type": "stream",
     "text": [
      "This is the string form of y: 7\n"
     ]
    }
   ],
   "source": [
    "y = str(7)\n",
    "print('This is the string form of y: ' + y)\n",
    "#this is equivalent to '7' directly"
   ]
  },
  {
   "cell_type": "code",
   "execution_count": 16,
   "metadata": {
    "cell_id": "00015-ee2178a6-582c-4282-b5cf-3d730987a94f",
    "deepnote_cell_height": 560.078125,
    "deepnote_cell_type": "code",
    "deepnote_to_be_reexecuted": false,
    "execution_millis": 0,
    "execution_start": 1664913803035,
    "source_hash": "51f02c05",
    "tags": []
   },
   "outputs": [
    {
     "name": "stdout",
     "output_type": "stream",
     "text": [
      "2\n",
      "2.0\n",
      "2.8\n"
     ]
    }
   ],
   "source": [
    "#But not all strings can be converted the other way, \n",
    "#only things that can be turned into integers (or floats)\n",
    "\n",
    "number = int('2')\n",
    "print(number)\n",
    "\n",
    "number2 = float('2')\n",
    "print(number2)\n",
    "\n",
    "number3 = float('2.8')\n",
    "print(number3)\n",
    "\n",
    "#This section is commented as it raises a \"ValueError\"\n",
    "\n",
    "#You cannot int something with a decimal:\n",
    "\n",
    "#number4 = int('3.7')\n",
    "#print(number4)\n",
    "\n",
    "#This section is commented as it raises a \"ValueError\"\n",
    "#You cannot int/float any string with letters\n",
    "\n",
    "#number5 = int('Test String including the number 7')\n",
    "#print(number5)"
   ]
  },
  {
   "cell_type": "markdown",
   "metadata": {
    "cell_id": "00016-813fd20a-266f-4d5c-a1fd-19f23fad345c",
    "deepnote_cell_type": "text-cell-h1",
    "formattedRanges": [],
    "is_collapsed": false,
    "tags": []
   },
   "source": [
    "# Python as a Calculator"
   ]
  },
  {
   "cell_type": "code",
   "execution_count": 17,
   "metadata": {
    "cell_id": "00017-1628aa89-c5e0-4b25-bafb-c6323105b230",
    "deepnote_cell_height": 130.1875,
    "deepnote_cell_type": "code",
    "deepnote_output_heights": [
     20.1875
    ],
    "deepnote_to_be_reexecuted": false,
    "execution_millis": 3,
    "execution_start": 1664913805842,
    "source_hash": "6b010145",
    "tags": []
   },
   "outputs": [
    {
     "data": {
      "text/plain": [
       "2"
      ]
     },
     "execution_count": 17,
     "metadata": {},
     "output_type": "execute_result"
    }
   ],
   "source": [
    "#addition:\n",
    "1 + 1"
   ]
  },
  {
   "cell_type": "code",
   "execution_count": 18,
   "metadata": {
    "cell_id": "00018-278356b0-c836-4d1a-8732-da43dd97ca48",
    "deepnote_cell_height": 142.6875,
    "deepnote_cell_type": "code",
    "deepnote_to_be_reexecuted": false,
    "execution_millis": 2,
    "execution_start": 1664913806590,
    "source_hash": "53eb3c61",
    "tags": []
   },
   "outputs": [
    {
     "name": "stdout",
     "output_type": "stream",
     "text": [
      "2\n"
     ]
    }
   ],
   "source": [
    "#save the result to a variable\n",
    "b = 1+1\n",
    "print(b)"
   ]
  },
  {
   "cell_type": "markdown",
   "metadata": {
    "cell_id": "00019-fc2a663a-4829-450b-b762-b1e9f2c42692",
    "deepnote_cell_height": 100.390625,
    "deepnote_cell_type": "markdown",
    "tags": []
   },
   "source": [
    "### Basic Python Math\n",
    "Lots of math operations can be executed in Python! Here is a showcase of a couple of them!"
   ]
  },
  {
   "cell_type": "code",
   "execution_count": 19,
   "metadata": {
    "cell_id": "00020-8ebb6124-5589-4c92-a2e2-d8fd700ca413",
    "deepnote_cell_height": 877.953125,
    "deepnote_cell_type": "code",
    "deepnote_to_be_reexecuted": false,
    "execution_millis": 7,
    "execution_start": 1664913809855,
    "source_hash": "cebb1e1a",
    "tags": []
   },
   "outputs": [
    {
     "name": "stdout",
     "output_type": "stream",
     "text": [
      "Addition section:\n",
      "7\n",
      "Subtraction section:\n",
      "-4\n",
      "Multiplication section:\n",
      "16\n",
      "Division section:\n",
      "0.25\n",
      "Exponents section:\n",
      "32\n"
     ]
    }
   ],
   "source": [
    "#Addition\n",
    "print('Addition section:')\n",
    "x = 3\n",
    "y = 4\n",
    "z = x + y\n",
    "print(z)\n",
    "\n",
    "#Subtraction\n",
    "print('Subtraction section:')\n",
    "x = 6\n",
    "y = 10\n",
    "z = x - y\n",
    "print(z)\n",
    "\n",
    "#Multiplication\n",
    "print('Multiplication section:')\n",
    "x = 2\n",
    "y = 8\n",
    "z = x * y\n",
    "print(z)\n",
    "\n",
    "#Division\n",
    "print('Division section:')\n",
    "x = 2\n",
    "y = 8\n",
    "z = x / y\n",
    "print(z)\n",
    "\n",
    "#exponents\n",
    "print('Exponents section:')\n",
    "x = 2\n",
    "y = 5\n",
    "z = x ** y\n",
    "print(z)"
   ]
  },
  {
   "cell_type": "markdown",
   "metadata": {
    "cell_id": "00021-ab05ac58-604f-4d60-a958-e3602bb1dfef",
    "deepnote_cell_height": 88.796875,
    "deepnote_cell_type": "markdown",
    "tags": []
   },
   "source": [
    "The order of operations (PEMDAS) is used when calculating stuff!\n",
    "\n",
    "I recommend over-using parenthesis when doing calculations"
   ]
  },
  {
   "cell_type": "code",
   "execution_count": 20,
   "metadata": {
    "cell_id": "00022-35712e01-574a-47b7-8f3b-64badbc762c6",
    "deepnote_cell_height": 399.78125,
    "deepnote_cell_type": "code",
    "deepnote_to_be_reexecuted": false,
    "execution_millis": 5,
    "execution_start": 1664913843395,
    "source_hash": "b7ce53d0",
    "tags": []
   },
   "outputs": [
    {
     "name": "stdout",
     "output_type": "stream",
     "text": [
      "2.0\n",
      "0.5\n",
      "0.04\n",
      "1.0\n"
     ]
    }
   ],
   "source": [
    "#PEMDAS (order of operations) is used when calculating stuff! \n",
    "\n",
    "#I recommend over-using parenthesis\n",
    "s = 5*5/25*2  # Equivalent to (25/25)*2 = 1*2 = 2\n",
    "print(s)\n",
    "\n",
    "t = 5*5/(25*2)  # Equivalent to 25/50 = 0.5\n",
    "print(t)\n",
    "\n",
    "u = 5*5/25**2  # Equivalent to 25/(25^2) = 1/25 = 0.04\n",
    "print(u)\n",
    "\n",
    "v = (5*5/25)**2  # Equivalent to (25/25)^2 = 1^2 = 1\n",
    "print(v)"
   ]
  },
  {
   "cell_type": "markdown",
   "metadata": {
    "cell_id": "00023-b16be768-a30b-4a80-88f4-a00ba6a508e5",
    "deepnote_cell_type": "text-cell-h3",
    "formattedRanges": [],
    "is_collapsed": false,
    "tags": []
   },
   "source": [
    "### Updating variables"
   ]
  },
  {
   "cell_type": "markdown",
   "metadata": {
    "cell_id": "00024-a914c64c-450e-46ec-bf2b-4a225f344d8d",
    "deepnote_cell_height": 52.390625,
    "deepnote_cell_type": "markdown",
    "tags": []
   },
   "source": [
    "You can also perform these operations on a variable and save the value to the same variable"
   ]
  },
  {
   "cell_type": "code",
   "execution_count": 21,
   "metadata": {
    "cell_id": "00025-0d20a3de-06ab-439d-8fb4-9135fcfa3406",
    "deepnote_cell_height": 714.25,
    "deepnote_cell_type": "code",
    "deepnote_to_be_reexecuted": false,
    "execution_millis": 2,
    "execution_start": 1664913848995,
    "source_hash": "b24ebe34",
    "tags": []
   },
   "outputs": [
    {
     "name": "stdout",
     "output_type": "stream",
     "text": [
      "2 is saved to the variable x\n",
      "3 is now the value of x\n",
      "\n",
      "2 is saved to the variable x\n",
      "9 is now the value of x\n",
      "16 is now the value of x\n",
      "\n",
      "2 is saved to the variable y\n",
      "8 is now the value of y\n"
     ]
    }
   ],
   "source": [
    "#Update Variable Addition\n",
    "x = 2\n",
    "print(x, 'is saved to the variable x')\n",
    "\n",
    "x = x + 1\n",
    "print(x, 'is now the value of x')\n",
    "print()\n",
    "\n",
    "#Do it twice! *Not the most efficient way, but obvious what is going on*\n",
    "x = 2\n",
    "print(x, 'is saved to the variable x')\n",
    "\n",
    "x = x + 7 \n",
    "print(x, 'is now the value of x')\n",
    "\n",
    "x = x + 7\n",
    "print(x, 'is now the value of x')\n",
    "print()\n",
    "\n",
    "#Update Variable Multiplication\n",
    "y = 2\n",
    "print(y, 'is saved to the variable y')\n",
    "y = y * 4\n",
    "print(y, 'is now the value of y')\n",
    "\n",
    "#Other operations follow a similar syntax, for example: x = x / 7, etc"
   ]
  },
  {
   "cell_type": "code",
   "execution_count": 22,
   "metadata": {
    "cell_id": "00026-9ec5307a-7535-44e5-97c9-cc18b64c2810",
    "deepnote_cell_height": 660.25,
    "deepnote_cell_type": "code",
    "deepnote_to_be_reexecuted": false,
    "execution_millis": 4,
    "execution_start": 1664913849782,
    "source_hash": "77b4a6cc",
    "tags": []
   },
   "outputs": [
    {
     "name": "stdout",
     "output_type": "stream",
     "text": [
      "2 is saved to the variable x\n",
      "3 is now the value of x\n",
      "\n",
      "2 is saved to the variable x\n",
      "9 is now the value of x\n",
      "16 is now the value of x\n",
      "\n",
      "2 is saved to the variable y\n",
      "8 is now the value of y\n"
     ]
    }
   ],
   "source": [
    "#Update Variable Addition (short-hand)\n",
    "x = 2\n",
    "print(x, 'is saved to the variable x')\n",
    "x += 1\n",
    "print(x, 'is now the value of x')\n",
    "print()\n",
    "\n",
    "#Do it twice! *Not the most efficient way, but obvious what is going on*\n",
    "x = 2\n",
    "print(x, 'is saved to the variable x')\n",
    "x += 7 \n",
    "print(x, 'is now the value of x')\n",
    "x += 7\n",
    "print(x, 'is now the value of x')\n",
    "print()\n",
    "\n",
    "#Update Variable Multiplication (short-hand)\n",
    "y = 2\n",
    "print(y, 'is saved to the variable y')\n",
    "y *= 4\n",
    "print(y, 'is now the value of y')\n",
    "\n",
    "#Other operations follow similar syntax: for example: x /= 7, etc"
   ]
  },
  {
   "cell_type": "markdown",
   "metadata": {
    "cell_id": "00027-c20e3ae2-ca51-4a05-bb7e-c69ee6403cab",
    "deepnote_cell_type": "text-cell-h3",
    "formattedRanges": [],
    "is_collapsed": false,
    "tags": []
   },
   "source": [
    "### For Loops to do repeated math"
   ]
  },
  {
   "cell_type": "code",
   "execution_count": 23,
   "metadata": {
    "cell_id": "00028-7e956d37-2e86-480b-9fa3-5fbf54291e34",
    "deepnote_cell_height": 485.34375,
    "deepnote_cell_type": "code",
    "deepnote_to_be_reexecuted": false,
    "execution_millis": 225,
    "execution_start": 1664913857224,
    "source_hash": "d59a1edf",
    "tags": []
   },
   "outputs": [
    {
     "name": "stdout",
     "output_type": "stream",
     "text": [
      "1\n",
      "2\n",
      "3\n",
      "4\n",
      "5\n",
      "6\n",
      "7\n",
      "8\n",
      "9\n",
      "10\n",
      "\n",
      "55\n"
     ]
    }
   ],
   "source": [
    "#we can use a for loop to do something a known number of times \n",
    "#lets add the numbers from 1-10\n",
    "total = 0\n",
    "for i in range(1,11):\n",
    "    print(i)\n",
    "    total += i\n",
    "\n",
    "print()\n",
    "\n",
    "print(total)"
   ]
  },
  {
   "cell_type": "markdown",
   "metadata": {
    "cell_id": "00029-144d544d-2c46-46a6-a4ee-5f3646382bc8",
    "deepnote_cell_height": 785.359375,
    "deepnote_cell_type": "markdown",
    "tags": []
   },
   "source": [
    "The cell above uses a **for loop** and the **range** function. \n",
    "\n",
    "This cell covers some of the syntax that we won't have time to get into during class, but we can absolutely cover it here so that you have it at your disposal! \n",
    "\n",
    "#### The range function\n",
    "\n",
    "The range function gives a range of numbers based on the following: `range(start, stop, step)`. \n",
    "\n",
    "##### Rules for range():\n",
    "1. The `stop` value is always reduced by the step size. This means: `range(0,10,1)` gives the numbers from 0 to 9. \n",
    "\n",
    "2. It automatically assumes certain values as the initial conditions. It assumes you wnat the start value to be zero, and the step size to be 1. So for example `range(0,10,1)` would be equivalent to `range(0, 10)` and equivalent to `range(10)`.\n",
    "\n",
    "**Example 1:** `range(1,11)` equivalent to the numbers from 1-10!\n",
    "\n",
    "**Example 2:** `range(1, 10, 2)` is equivalent to 1, 3, 5, 7, 9! \n",
    "\n",
    "**Example 3:** `range(0, 15, 3)` gives the numbers 0, 3, 6, 9, 12!\n",
    "\n",
    "**Example 4:** `range(5)` gives the numbers 0, 1, 2, 3, 4!\n",
    "\n",
    "#### For loops\n",
    "\n",
    "A for loop is a type of loop in python we use when we know how many times we would like to do something. The syntax will not be covered in depth in class, but it's important to know! \n",
    "\n",
    "The basic rule is for each element in a list, do something.\n",
    "\n",
    "`for i in range(1, 10):` will set the value of `i` to each number in the range one at a time. So the first time it goes through, `i` will be `1`, then the second time it loops through it will be `2`, and so on. Until `i` is `9`, then the loop will be done.\n",
    "\n",
    "This is super useful for doing math a bunch of times\n",
    "\n",
    "\n",
    "If you would like to read the documentation about for-loops, you can visit this [link](https://docs.python.org/3/tutorial/controlflow.html)"
   ]
  },
  {
   "cell_type": "code",
   "execution_count": 24,
   "metadata": {
    "cell_id": "00030-af07dee8-c621-43ac-8817-034c39cae196",
    "deepnote_cell_height": 239.46875,
    "deepnote_cell_type": "code",
    "deepnote_to_be_reexecuted": false,
    "execution_millis": 71,
    "execution_start": 1664913910055,
    "source_hash": "9c324d8b",
    "tags": []
   },
   "outputs": [
    {
     "name": "stdout",
     "output_type": "stream",
     "text": [
      "0\n",
      "3\n",
      "6\n",
      "9\n",
      "12\n"
     ]
    }
   ],
   "source": [
    "#You can use this cell and the following to play around with for loops\n",
    "for i in range(0,15,3):\n",
    "    #lets print(i) as a basic operation\n",
    "    print(i)"
   ]
  },
  {
   "cell_type": "code",
   "execution_count": 25,
   "metadata": {
    "cell_id": "00031-f85d4d4a-fb24-422d-85bb-308e9df0a854",
    "deepnote_cell_height": 257.46875,
    "deepnote_cell_type": "code",
    "deepnote_to_be_reexecuted": false,
    "execution_millis": 294,
    "execution_start": 1664913912705,
    "source_hash": "e01819d0",
    "tags": []
   },
   "outputs": [
    {
     "name": "stdout",
     "output_type": "stream",
     "text": [
      "2.0\n",
      "3.0\n",
      "4.0\n",
      "5.0\n",
      "6.0\n"
     ]
    }
   ],
   "source": [
    "for i in range(0,15,3):\n",
    "    #lets save the result of (i + 6) / 3 to a new variable x, then print it\n",
    "    x = (i + 6) / 3 \n",
    "    print(x)\n"
   ]
  },
  {
   "cell_type": "markdown",
   "metadata": {
    "cell_id": "00032-c23bfbe3-cebb-4c60-bf2d-84804fedb79e",
    "deepnote_cell_height": 100.390625,
    "deepnote_cell_type": "markdown",
    "tags": []
   },
   "source": [
    "### Working with Complex Numbers and Large Numbers\n",
    "\n",
    "Sometimes you have to work with large numbers or complex numbers, Python can do that"
   ]
  },
  {
   "cell_type": "code",
   "execution_count": 26,
   "metadata": {
    "cell_id": "00033-e250c8b1-af7a-47c4-96c5-e8217f26b0b1",
    "deepnote_cell_height": 386.78125,
    "deepnote_cell_type": "code",
    "deepnote_to_be_reexecuted": false,
    "execution_millis": 971,
    "execution_start": 1664913982371,
    "source_hash": "42c1d264",
    "tags": []
   },
   "outputs": [
    {
     "name": "stdout",
     "output_type": "stream",
     "text": [
      "1000000000\n",
      "1000000000\n",
      "1000000000.0\n",
      "125000000.0\n"
     ]
    }
   ],
   "source": [
    "#large number options\n",
    "billion1 = 1000000000\n",
    "billion2 = 1_000_000_000  # Can add seperator underscores for readability\n",
    "billion3 = 1e9  # Or define it using scientific notation\n",
    "\n",
    "#Note: scientific notation defines the variable as a float, rather than an integer\n",
    "\n",
    "print(billion1)\n",
    "print(billion2)\n",
    "print(billion3)\n",
    "\n",
    "#python math you learned above works for these numbers too!\n",
    "print(billion2 / 8)  # Division by 8"
   ]
  },
  {
   "cell_type": "code",
   "execution_count": 27,
   "metadata": {
    "cell_id": "00034-881f186a-b07a-4483-acc2-43d4dcadb5f1",
    "deepnote_cell_height": 363.78125,
    "deepnote_cell_type": "code",
    "deepnote_to_be_reexecuted": false,
    "execution_millis": 5,
    "execution_start": 1664913983469,
    "source_hash": "52c7fac1",
    "tags": []
   },
   "outputs": [
    {
     "name": "stdout",
     "output_type": "stream",
     "text": [
      "(3+5j)\n",
      "(4+6j)\n",
      "(1-1j)\n",
      "(10+2j)\n"
     ]
    }
   ],
   "source": [
    "#complex numbers\n",
    "\n",
    "complex1 = 3 + 5j\n",
    "complex2 = 4 + 6j\n",
    "complex3 = 1 - 1j \n",
    "#we have to specify 1j because it's looking for j as a variable otherwise\n",
    "\n",
    "print(complex1)\n",
    "print(complex2)\n",
    "print(complex3)\n",
    "\n",
    "print(complex3 * complex2)  # Preforms the complex multiplication"
   ]
  },
  {
   "cell_type": "markdown",
   "metadata": {
    "cell_id": "00035-c85c80a6-cb56-4005-a673-d2f5284c31e1",
    "deepnote_cell_height": 165.1875,
    "deepnote_cell_type": "markdown",
    "tags": []
   },
   "source": [
    "### Other math related functions in Python\n",
    "\n",
    "- `max(value1, value2, ..., valueN)`: returns the max value\n",
    "- `min(value1, value2, ..., valueN)`: returns the min value\n",
    "- `abs(x)`: returns the absolute value of x often shown like |x| in algebra"
   ]
  },
  {
   "cell_type": "code",
   "execution_count": 28,
   "metadata": {
    "cell_id": "00036-802d4e4a-00a9-4436-b40c-c8943ade063c",
    "deepnote_cell_height": 144.390625,
    "deepnote_cell_type": "code",
    "deepnote_to_be_reexecuted": false,
    "execution_millis": 5,
    "execution_start": 1664913985102,
    "source_hash": "a9a25786",
    "tags": []
   },
   "outputs": [
    {
     "name": "stdout",
     "output_type": "stream",
     "text": [
      "3\n",
      "3\n"
     ]
    }
   ],
   "source": [
    "print(abs(-3))\n",
    "print(abs(3))"
   ]
  },
  {
   "cell_type": "code",
   "execution_count": 29,
   "metadata": {
    "cell_id": "00037-b660fef6-d091-4a8f-aa66-dc8749d9097f",
    "deepnote_cell_height": 106.6875,
    "deepnote_cell_type": "code",
    "deepnote_to_be_reexecuted": false,
    "execution_millis": 1,
    "execution_start": 1664913985884,
    "source_hash": "2dba7c85",
    "tags": []
   },
   "outputs": [
    {
     "name": "stdout",
     "output_type": "stream",
     "text": [
      "20\n"
     ]
    }
   ],
   "source": [
    "print(max(10, 20, 3, -6))"
   ]
  },
  {
   "cell_type": "code",
   "execution_count": 30,
   "metadata": {
    "cell_id": "00038-9fc7a41d-e91a-49dc-9821-5a8e688bdb92",
    "deepnote_cell_height": 106.6875,
    "deepnote_cell_type": "code",
    "deepnote_to_be_reexecuted": false,
    "execution_millis": 334,
    "execution_start": 1664913986204,
    "source_hash": "21c38b97",
    "tags": []
   },
   "outputs": [
    {
     "name": "stdout",
     "output_type": "stream",
     "text": [
      "-6\n"
     ]
    }
   ],
   "source": [
    "print(min(10, 20, 3, -6))"
   ]
  },
  {
   "cell_type": "markdown",
   "metadata": {
    "cell_id": "00039-459568d5-bc93-44de-80f4-b05e8fd3554d",
    "deepnote_cell_height": 347.578125,
    "deepnote_cell_type": "markdown",
    "tags": []
   },
   "source": [
    "### Modulus and Floor Division\n",
    "\n",
    "**Modulus** returns the remainder when doing division: `x % y`\n",
    "\n",
    "- ex: 5 mod 2 is 1 \n",
    "- ex: 16 mod 4  is 0\n",
    "- ex: 21 mod 6 is 3\n",
    "\n",
    "**Floor Division** returns largest integer value below a division operation: `x//y`\n",
    "- ex: 5//2 is 2 (actual division is 2.5)\n",
    "- ex: 16//4 is 4 (actual division is 4)\n",
    "- ex: 21//6 is 3 (actual division is 3.5)\n",
    "\n",
    "Try it out!!"
   ]
  },
  {
   "cell_type": "code",
   "execution_count": 31,
   "metadata": {
    "cell_id": "00040-2a677228-a3ce-45c6-84c8-daf54cfde615",
    "deepnote_cell_height": 660.171875,
    "deepnote_cell_type": "code",
    "deepnote_to_be_reexecuted": false,
    "execution_millis": 4,
    "execution_start": 1664913988277,
    "source_hash": "9347ec31",
    "tags": []
   },
   "outputs": [
    {
     "name": "stdout",
     "output_type": "stream",
     "text": [
      "Modulus section:\n",
      "1\n",
      "0\n",
      "Floor division section:\n",
      "2\n",
      "2\n"
     ]
    }
   ],
   "source": [
    "#modulus \n",
    "print('Modulus section:')\n",
    "x = 5\n",
    "y = 2\n",
    "z = x%y\n",
    "print(z)\n",
    "\n",
    "#6 mod 3 should be 0, since 6 is divisble by 3\n",
    "s = 6\n",
    "t = 3\n",
    "u = s%t\n",
    "print(u)\n",
    "\n",
    "#floor division (returns the largest integer value below a division operation)\n",
    "print('Floor division section:')\n",
    "#5//2 is 2, since 5/2 is 2.5, so the largest integer value possible below the result is 2\n",
    "x = 5\n",
    "y = 2\n",
    "z = x//y\n",
    "print(z)\n",
    "\n",
    "#6//3 should be 2, since 6 is perfectly divisible by 3\n",
    "s = 6\n",
    "t = 3\n",
    "u = s//t\n",
    "print(u)"
   ]
  },
  {
   "cell_type": "markdown",
   "metadata": {
    "cell_id": "00041-66c2d6bc-2467-4b23-a200-da352a0b6ece",
    "deepnote_cell_type": "text-cell-h2",
    "formattedRanges": [],
    "is_collapsed": false,
    "tags": []
   },
   "source": [
    "## Python as a scientific calculator"
   ]
  },
  {
   "cell_type": "markdown",
   "metadata": {
    "cell_id": "00042-07995017-e0d4-4116-ba8d-1c8126ce2db6",
    "deepnote_cell_height": 52.390625,
    "deepnote_cell_type": "markdown",
    "tags": []
   },
   "source": [
    "Utilizing the `math` library and the `numpy` library we can get extra functions!"
   ]
  },
  {
   "cell_type": "code",
   "execution_count": 32,
   "metadata": {
    "cell_id": "00043-edc84d51-6b16-4b2f-8c47-e610f5d9555a",
    "deepnote_cell_height": 94,
    "deepnote_cell_type": "code",
    "deepnote_to_be_reexecuted": false,
    "execution_millis": 0,
    "execution_start": 1664913990327,
    "source_hash": "8b3398b5",
    "tags": []
   },
   "outputs": [],
   "source": [
    "import math\n",
    "import numpy as np"
   ]
  },
  {
   "cell_type": "code",
   "execution_count": 33,
   "metadata": {
    "cell_id": "00044-d5e5b4f7-f231-45b4-b909-c028b824b362",
    "deepnote_cell_height": 106.6875,
    "deepnote_cell_type": "code",
    "deepnote_to_be_reexecuted": false,
    "execution_millis": 7,
    "execution_start": 1664913990665,
    "source_hash": "f4453cc5",
    "tags": []
   },
   "outputs": [
    {
     "name": "stdout",
     "output_type": "stream",
     "text": [
      "3.1622776601683795\n"
     ]
    }
   ],
   "source": [
    "print(math.sqrt(10))"
   ]
  },
  {
   "cell_type": "code",
   "execution_count": 34,
   "metadata": {
    "cell_id": "00045-514bc63c-4948-408e-b7b4-db98fb800631",
    "deepnote_cell_height": 106.6875,
    "deepnote_cell_type": "code",
    "deepnote_to_be_reexecuted": false,
    "execution_millis": 4,
    "execution_start": 1664913991721,
    "source_hash": "8529059a",
    "tags": []
   },
   "outputs": [
    {
     "name": "stdout",
     "output_type": "stream",
     "text": [
      "1.0\n"
     ]
    }
   ],
   "source": [
    "print(math.cos(0))"
   ]
  },
  {
   "cell_type": "code",
   "execution_count": 35,
   "metadata": {
    "cell_id": "00046-7fdf23d9-d286-493b-9f68-31353e5a29e6",
    "deepnote_cell_height": 107,
    "deepnote_cell_type": "code",
    "deepnote_to_be_reexecuted": false,
    "execution_millis": 4,
    "execution_start": 1664913991727,
    "source_hash": "f632ac7b",
    "tags": []
   },
   "outputs": [
    {
     "name": "stdout",
     "output_type": "stream",
     "text": [
      "1.2246467991473532e-16\n"
     ]
    }
   ],
   "source": [
    "print(math.sin(math.pi))  #The sin(pi) is 0, notice the answer a small number"
   ]
  },
  {
   "cell_type": "code",
   "execution_count": 36,
   "metadata": {
    "cell_id": "00047-397428bb-21d0-4e96-bf2c-6dd08455aaf7",
    "deepnote_cell_height": 106.6875,
    "deepnote_cell_type": "code",
    "deepnote_to_be_reexecuted": false,
    "execution_millis": 3,
    "execution_start": 1664913993606,
    "source_hash": "ae767342",
    "tags": []
   },
   "outputs": [
    {
     "name": "stdout",
     "output_type": "stream",
     "text": [
      "3.1622776601683795\n"
     ]
    }
   ],
   "source": [
    "print(np.sqrt(10))"
   ]
  },
  {
   "cell_type": "code",
   "execution_count": 37,
   "metadata": {
    "cell_id": "00048-307a78e5-b36f-4699-bf8a-1ecce4d841cf",
    "deepnote_cell_height": 107,
    "deepnote_cell_type": "code",
    "deepnote_to_be_reexecuted": false,
    "execution_millis": 3,
    "execution_start": 1664913993610,
    "source_hash": "a0f0e681",
    "tags": []
   },
   "outputs": [
    {
     "name": "stdout",
     "output_type": "stream",
     "text": [
      "1.0\n"
     ]
    }
   ],
   "source": [
    "print(np.cos(0))"
   ]
  },
  {
   "cell_type": "code",
   "execution_count": 38,
   "metadata": {
    "cell_id": "00049-838045ee-9aa1-405a-8096-648205dc68c5",
    "deepnote_cell_height": 106.6875,
    "deepnote_cell_type": "code",
    "deepnote_to_be_reexecuted": false,
    "execution_millis": 4,
    "execution_start": 1664913993617,
    "source_hash": "40cf5e92",
    "tags": []
   },
   "outputs": [
    {
     "name": "stdout",
     "output_type": "stream",
     "text": [
      "1.2246467991473532e-16\n"
     ]
    }
   ],
   "source": [
    "print(np.sin(np.pi))  #The sin(pi) is 0, notice the answer a small number"
   ]
  },
  {
   "cell_type": "markdown",
   "metadata": {
    "cell_id": "00050-ea9b4229-8a3e-45a3-863a-16829cf98dce",
    "deepnote_cell_height": 88.796875,
    "deepnote_cell_type": "markdown",
    "tags": []
   },
   "source": [
    "Here is a link that can help with learning the `math` library syntax in Python:\n",
    "\n",
    "[Source 1](https://www.tutorialspoint.com/python/number_sqrt.htm) "
   ]
  }
 ],
 "metadata": {
  "deepnote": {
   "is_reactive": false
  },
  "deepnote_execution_queue": [],
  "deepnote_notebook_id": "8ffea604-8fad-4974-94f4-571dfae2ef58",
  "deepnote_persisted_session": {
   "createdAt": "2022-10-04T20:30:40.008Z"
  },
  "kernelspec": {
   "display_name": "Python 3",
   "language": "python",
   "name": "python3"
  },
  "language_info": {
   "codemirror_mode": {
    "name": "ipython",
    "version": 3
   },
   "file_extension": ".py",
   "mimetype": "text/x-python",
   "name": "python",
   "nbconvert_exporter": "python",
   "pygments_lexer": "ipython3",
   "version": "3.10.6"
  },
  "orig_nbformat": 2
 },
 "nbformat": 4,
 "nbformat_minor": 2
}
