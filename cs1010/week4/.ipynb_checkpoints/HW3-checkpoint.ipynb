{
 "cells": [
  {
   "cell_type": "markdown",
   "id": "55553782-6d92-489e-900d-af784a1b316d",
   "metadata": {},
   "source": [
    "# CS1010 Assignment 3\n",
    "### Instructor:\n",
    "**Prof. Kartik Bulusu [CS & MAE]**\n",
    "\n",
    "### GTA:\n",
    "**Oscar Southwell**\n",
    "\n",
    "### UTA:\n",
    "**Sameen Ahmad, Talia Novack**\n",
    "\n",
    "### LA:\n",
    "**Manue Alaimo, Selman Eris, Saif Alzaabi, Gustavo Londono, Amy Longua, Pravin Khanal**\n",
    "\n",
    "### Grader:\n",
    "**Rutvik Solanki**"
   ]
  },
  {
   "cell_type": "markdown",
   "id": "677f7036-baf6-4902-a27e-a11d2a1bd6ca",
   "metadata": {},
   "source": [
    "Put your names in the below cell inside the quotation marks!"
   ]
  },
  {
   "cell_type": "code",
   "execution_count": 1,
   "id": "a827ef9f-90b7-4bf9-ab1c-be78dd1e31fa",
   "metadata": {},
   "outputs": [
    {
     "name": "stdout",
     "output_type": "stream",
     "text": [
      "Assigmnet is submitted by Andre\n"
     ]
    }
   ],
   "source": [
    "#Your names go here!\n",
    "name1 = 'Andre'\n",
    "\n",
    "print('Assigmnet is submitted by ' + name1)"
   ]
  },
  {
   "cell_type": "code",
   "execution_count": 2,
   "id": "80f9481e-02dd-4ab0-bdfb-635e238bf53b",
   "metadata": {},
   "outputs": [],
   "source": [
    "#Please use 'Shift+Enter' to execute this cell\n",
    "import numpy as np\n",
    "import pandas as pd\n",
    "from matplotlib import pyplot as plt"
   ]
  },
  {
   "cell_type": "markdown",
   "id": "019da27b-256a-423b-926c-620d8d702a67",
   "metadata": {},
   "source": [
    "## Question 1.\n",
    "\n",
    "We have provided a homework csv file in the Week3 folder named `HW3.csv`, pull this data into a dataframe called `my_df` and display that dataframe\n",
    "\n",
    "**Hint:** use `pd.read_csv()` with an appropriate filename!"
   ]
  },
  {
   "cell_type": "code",
   "execution_count": 3,
   "id": "745487da-eb4f-45ac-a9b7-2433377d2bca",
   "metadata": {
    "deletable": false,
    "nbgrader": {
     "cell_type": "code",
     "checksum": "93c5eb8959898da54ad783243964f7b8",
     "grade": true,
     "grade_id": "question-1",
     "locked": false,
     "points": 2.5,
     "schema_version": 3,
     "solution": true,
     "task": false
    }
   },
   "outputs": [],
   "source": [
    "# YOUR CODE HERE\n",
    "my_df = pd.read_csv('HW3.csv')"
   ]
  },
  {
   "cell_type": "markdown",
   "id": "bdbee3c8-4108-467d-9a6e-1fc73161a75b",
   "metadata": {},
   "source": [
    "## Question 2. \n",
    "\n",
    "Drop the rows contain nan values from the frame using `my_df.dropna(axis=0)` and save the result to a frame called `my_df_new`. Display the first 7 lines of the frame using `.head()`"
   ]
  },
  {
   "cell_type": "code",
   "execution_count": 4,
   "id": "51bb7737-527e-4ad7-9e79-8c101ef0ea96",
   "metadata": {
    "deletable": false,
    "nbgrader": {
     "cell_type": "code",
     "checksum": "fd049be00513144099a08bdd49c516c7",
     "grade": true,
     "grade_id": "question-2",
     "locked": false,
     "points": 2.5,
     "schema_version": 3,
     "solution": true,
     "task": false
    }
   },
   "outputs": [
    {
     "data": {
      "text/html": [
       "<div>\n",
       "<style scoped>\n",
       "    .dataframe tbody tr th:only-of-type {\n",
       "        vertical-align: middle;\n",
       "    }\n",
       "\n",
       "    .dataframe tbody tr th {\n",
       "        vertical-align: top;\n",
       "    }\n",
       "\n",
       "    .dataframe thead th {\n",
       "        text-align: right;\n",
       "    }\n",
       "</style>\n",
       "<table border=\"1\" class=\"dataframe\">\n",
       "  <thead>\n",
       "    <tr style=\"text-align: right;\">\n",
       "      <th></th>\n",
       "      <th>Name</th>\n",
       "      <th>Date</th>\n",
       "      <th>Food</th>\n",
       "      <th>Number</th>\n",
       "    </tr>\n",
       "  </thead>\n",
       "  <tbody>\n",
       "    <tr>\n",
       "      <th>0</th>\n",
       "      <td>John</td>\n",
       "      <td>10/3/2021</td>\n",
       "      <td>Apples</td>\n",
       "      <td>5.0</td>\n",
       "    </tr>\n",
       "    <tr>\n",
       "      <th>1</th>\n",
       "      <td>John</td>\n",
       "      <td>10/4/2021</td>\n",
       "      <td>Oranges</td>\n",
       "      <td>4.0</td>\n",
       "    </tr>\n",
       "    <tr>\n",
       "      <th>2</th>\n",
       "      <td>John</td>\n",
       "      <td>10/5/2021</td>\n",
       "      <td>Apples</td>\n",
       "      <td>3.0</td>\n",
       "    </tr>\n",
       "    <tr>\n",
       "      <th>3</th>\n",
       "      <td>John</td>\n",
       "      <td>10/6/2021</td>\n",
       "      <td>Apples</td>\n",
       "      <td>6.0</td>\n",
       "    </tr>\n",
       "    <tr>\n",
       "      <th>4</th>\n",
       "      <td>John</td>\n",
       "      <td>10/7/2021</td>\n",
       "      <td>Apples</td>\n",
       "      <td>5.0</td>\n",
       "    </tr>\n",
       "  </tbody>\n",
       "</table>\n",
       "</div>"
      ],
      "text/plain": [
       "   Name       Date     Food  Number\n",
       "0  John  10/3/2021   Apples     5.0\n",
       "1  John  10/4/2021  Oranges     4.0\n",
       "2  John  10/5/2021   Apples     3.0\n",
       "3  John  10/6/2021   Apples     6.0\n",
       "4  John  10/7/2021   Apples     5.0"
      ]
     },
     "execution_count": 4,
     "metadata": {},
     "output_type": "execute_result"
    }
   ],
   "source": [
    "# YOUR CODE HERE\n",
    "my_df.dropna(axis=0)\n",
    "my_df.head()"
   ]
  },
  {
   "cell_type": "markdown",
   "id": "05a9ff24-4e99-438f-b7ff-1302aeefdc91",
   "metadata": {},
   "source": [
    "## Question 3. \n",
    "\n",
    "We want to get the total number of each food eaten by all people. To do this we will use `groupby` and `sum`. Our column of importance is going to be `'Food'`\n",
    "\n",
    "**Explore the pandas functions** `.groupby()` **function and the** `.sum()` **function.**\n",
    "\n",
    "These were not covered in the demonstration but it will be in your guided project. If you want reference material for them, we have linked the documentation! [Click for groupby](https://pandas.pydata.org/docs/reference/api/pandas.DataFrame.groupby.html) and [Click for sum](https://pandas.pydata.org/docs/reference/api/pandas.DataFrame.sum.html)\n",
    "\n",
    "Alternatively, use our new best friend the `help()` function to try and figure out how they work! If you still have questions, there are plenty of resources available, such as office hours provided by members of the teaching team!\n",
    "\n",
    "Remember you can always use `display()` to showcase a dataframe\n",
    "\n",
    "To groupby the food names use `my_df_new.groupby('column name')` and save this result to `x`. Then use `x.sum()` to store the value in a variable named `total_fruits` and display the result. \n",
    "\n",
    "Here's a pseudo-code for what we are looking for:\n",
    "\n",
    "```\n",
    "x = YOUR_DATAFRAME.groupby(COLUMN_NAME)\n",
    "RESULT = x.sum()\n",
    "display(RESULT)\n",
    "```"
   ]
  },
  {
   "cell_type": "code",
   "execution_count": 5,
   "id": "56e36d6c-f46e-4e49-b349-47029dad2e31",
   "metadata": {
    "deletable": false,
    "nbgrader": {
     "cell_type": "code",
     "checksum": "e03237557854d4da8148628399edd7d6",
     "grade": true,
     "grade_id": "question-3",
     "locked": false,
     "points": 2.5,
     "schema_version": 3,
     "solution": true,
     "task": false
    }
   },
   "outputs": [
    {
     "data": {
      "text/html": [
       "<div>\n",
       "<style scoped>\n",
       "    .dataframe tbody tr th:only-of-type {\n",
       "        vertical-align: middle;\n",
       "    }\n",
       "\n",
       "    .dataframe tbody tr th {\n",
       "        vertical-align: top;\n",
       "    }\n",
       "\n",
       "    .dataframe thead th {\n",
       "        text-align: right;\n",
       "    }\n",
       "</style>\n",
       "<table border=\"1\" class=\"dataframe\">\n",
       "  <thead>\n",
       "    <tr style=\"text-align: right;\">\n",
       "      <th></th>\n",
       "      <th>Name</th>\n",
       "      <th>Date</th>\n",
       "      <th>Number</th>\n",
       "    </tr>\n",
       "    <tr>\n",
       "      <th>Food</th>\n",
       "      <th></th>\n",
       "      <th></th>\n",
       "      <th></th>\n",
       "    </tr>\n",
       "  </thead>\n",
       "  <tbody>\n",
       "    <tr>\n",
       "      <th>Apples</th>\n",
       "      <td>JohnJohnJohnJohnJamesJames</td>\n",
       "      <td>10/3/202110/5/202110/6/202110/7/202110/4/20211...</td>\n",
       "      <td>23.0</td>\n",
       "    </tr>\n",
       "    <tr>\n",
       "      <th>Bananas</th>\n",
       "      <td>WendyWendyWendy</td>\n",
       "      <td>10/3/202110/5/202110/6/2021</td>\n",
       "      <td>13.0</td>\n",
       "    </tr>\n",
       "    <tr>\n",
       "      <th>Oranges</th>\n",
       "      <td>JohnJamesJamesJames</td>\n",
       "      <td>10/4/202110/3/202110/5/202110/7/2021</td>\n",
       "      <td>19.0</td>\n",
       "    </tr>\n",
       "  </tbody>\n",
       "</table>\n",
       "</div>"
      ],
      "text/plain": [
       "                               Name  \\\n",
       "Food                                  \n",
       "Apples   JohnJohnJohnJohnJamesJames   \n",
       "Bananas             WendyWendyWendy   \n",
       "Oranges         JohnJamesJamesJames   \n",
       "\n",
       "                                                      Date  Number  \n",
       "Food                                                                \n",
       "Apples   10/3/202110/5/202110/6/202110/7/202110/4/20211...    23.0  \n",
       "Bananas                        10/3/202110/5/202110/6/2021    13.0  \n",
       "Oranges               10/4/202110/3/202110/5/202110/7/2021    19.0  "
      ]
     },
     "metadata": {},
     "output_type": "display_data"
    }
   ],
   "source": [
    "# YOUR CODE HERE\n",
    "x = my_df.groupby('Food')\n",
    "result = x.sum()\n",
    "display(result)"
   ]
  },
  {
   "cell_type": "markdown",
   "id": "61042b42-ce62-4a9c-8c33-9f0316c0a4dc",
   "metadata": {},
   "source": [
    "## Question 4. \n",
    "\n",
    "Update the number of apples in your new dataframe named `total_fruits` to the value 27 using `df.loc[slicing] = value`\n",
    "\n",
    "Then display the updated dataframe "
   ]
  },
  {
   "cell_type": "code",
   "execution_count": 12,
   "id": "483f3739-5181-48d2-9f3a-a3a3e4b68bb1",
   "metadata": {
    "deletable": false,
    "nbgrader": {
     "cell_type": "code",
     "checksum": "a0d3f867f2cba868275a8423dc1367b6",
     "grade": true,
     "grade_id": "question-4",
     "locked": false,
     "points": 2.5,
     "schema_version": 3,
     "solution": true,
     "task": false
    }
   },
   "outputs": [
    {
     "data": {
      "text/html": [
       "<div>\n",
       "<style scoped>\n",
       "    .dataframe tbody tr th:only-of-type {\n",
       "        vertical-align: middle;\n",
       "    }\n",
       "\n",
       "    .dataframe tbody tr th {\n",
       "        vertical-align: top;\n",
       "    }\n",
       "\n",
       "    .dataframe thead th {\n",
       "        text-align: right;\n",
       "    }\n",
       "</style>\n",
       "<table border=\"1\" class=\"dataframe\">\n",
       "  <thead>\n",
       "    <tr style=\"text-align: right;\">\n",
       "      <th></th>\n",
       "      <th>Name</th>\n",
       "      <th>Date</th>\n",
       "      <th>Number</th>\n",
       "    </tr>\n",
       "    <tr>\n",
       "      <th>Food</th>\n",
       "      <th></th>\n",
       "      <th></th>\n",
       "      <th></th>\n",
       "    </tr>\n",
       "  </thead>\n",
       "  <tbody>\n",
       "    <tr>\n",
       "      <th>Apples</th>\n",
       "      <td>JohnJohnJohnJohnJamesJames</td>\n",
       "      <td>10/3/202110/5/202110/6/202110/7/202110/4/20211...</td>\n",
       "      <td>27.0</td>\n",
       "    </tr>\n",
       "    <tr>\n",
       "      <th>Bananas</th>\n",
       "      <td>WendyWendyWendy</td>\n",
       "      <td>10/3/202110/5/202110/6/2021</td>\n",
       "      <td>13.0</td>\n",
       "    </tr>\n",
       "    <tr>\n",
       "      <th>Oranges</th>\n",
       "      <td>JohnJamesJamesJames</td>\n",
       "      <td>10/4/202110/3/202110/5/202110/7/2021</td>\n",
       "      <td>19.0</td>\n",
       "    </tr>\n",
       "  </tbody>\n",
       "</table>\n",
       "</div>"
      ],
      "text/plain": [
       "                               Name  \\\n",
       "Food                                  \n",
       "Apples   JohnJohnJohnJohnJamesJames   \n",
       "Bananas             WendyWendyWendy   \n",
       "Oranges         JohnJamesJamesJames   \n",
       "\n",
       "                                                      Date  Number  \n",
       "Food                                                                \n",
       "Apples   10/3/202110/5/202110/6/202110/7/202110/4/20211...    27.0  \n",
       "Bananas                        10/3/202110/5/202110/6/2021    13.0  \n",
       "Oranges               10/4/202110/3/202110/5/202110/7/2021    19.0  "
      ]
     },
     "execution_count": 12,
     "metadata": {},
     "output_type": "execute_result"
    }
   ],
   "source": [
    "# YOUR CODE HERE\n",
    "result.loc['Apples', 'Number'] = 27\n",
    "\n",
    "result"
   ]
  },
  {
   "cell_type": "markdown",
   "id": "95705827-ab1c-462b-abed-19387d214433",
   "metadata": {},
   "source": [
    "## Congrats!!\n",
    " You completed your 3rd Python Assignment in CS 1010! Give yourself a round of applause!!"
   ]
  }
 ],
 "metadata": {
  "kernelspec": {
   "display_name": "Python 3 (ipykernel)",
   "language": "python",
   "name": "python3"
  },
  "language_info": {
   "codemirror_mode": {
    "name": "ipython",
    "version": 3
   },
   "file_extension": ".py",
   "mimetype": "text/x-python",
   "name": "python",
   "nbconvert_exporter": "python",
   "pygments_lexer": "ipython3",
   "version": "3.11.5"
  }
 },
 "nbformat": 4,
 "nbformat_minor": 5
}
